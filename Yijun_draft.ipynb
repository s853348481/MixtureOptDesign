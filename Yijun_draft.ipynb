{
 "cells": [
  {
   "cell_type": "code",
   "execution_count": 1,
   "metadata": {},
   "outputs": [],
   "source": [
    "# the meaningfulness of '__init__'\n",
    "#\n",
    "class A(object):\n",
    "    i=22\n",
    "    # self is defined overhere\n",
    "    def __init__(self):\n",
    "        self.x = 'Hello'\n",
    "    #self is defined by __init__, so only 'foo' needs to be defined in method_a \n",
    "    def method_a(self, foo):\n",
    "        print (self.x + ' ' + foo)"
   ]
  },
  {
   "cell_type": "code",
   "execution_count": 2,
   "metadata": {},
   "outputs": [
    {
     "data": {
      "text/plain": [
       "22"
      ]
     },
     "execution_count": 2,
     "metadata": {},
     "output_type": "execute_result"
    }
   ],
   "source": [
    "a=A()\n",
    "a.i"
   ]
  },
  {
   "cell_type": "code",
   "execution_count": 3,
   "metadata": {},
   "outputs": [
    {
     "name": "stdout",
     "output_type": "stream",
     "text": [
      "Hello Sailor!\n"
     ]
    }
   ],
   "source": [
    "a.method_a('Sailor!')"
   ]
  },
  {
   "attachments": {},
   "cell_type": "markdown",
   "metadata": {},
   "source": [
    "# Draft "
   ]
  },
  {
   "cell_type": "code",
   "execution_count": 4,
   "metadata": {},
   "outputs": [],
   "source": [
    "import numpy as np\n",
    "import MixtureOptDesign"
   ]
  },
  {
   "cell_type": "code",
   "execution_count": 5,
   "metadata": {},
   "outputs": [],
   "source": [
    "#input\n",
    "    #design \n",
    "    #beta \n",
    "    #order\n",
    "    #q=3  j=2 s=8\n",
    "\n",
    "# Data\n",
    "data = [0.3897873, 0.6292498, 0.7009263, 0.4262842, 0.246073770, 0.48413014, 0.2913878, 0.7201046335,\n",
    "        0.4982357, 0.007519965, 0.2505569, 0.1549670, 0.5415304, 0.3639989, 0.04235179, 0.3279013,\n",
    "        0.2375383, 0.1180457, 0.2000333, 0.2569634, 0.749005428, 0.03588967, 0.3591402, 0.0009022414,\n",
    "        0.2549352, 0.636080256, 0.4460236, 0.6877322, 0.2635403, 0.3727396, 0.44510098, 0.2701244,\n",
    "        0.3726744, 0.2527044, 0.0990404, 0.3167524, 0.004920801, 0.47998018, 0.3494720, 0.2789931250,\n",
    "        0.2468291, 0.356399779, 0.3034196, 0.1573008, 0.1949293, 0.2632615, 0.51254723, 0.4019743]\n",
    "\n",
    "# Convert to a numpy array of shape (3, 2, 8)\n",
    "design = np.array(data).reshape((3, 2, 8))"
   ]
  },
  {
   "cell_type": "code",
   "execution_count": 6,
   "metadata": {},
   "outputs": [
    {
     "data": {
      "text/plain": [
       "array([[[0.3897873 , 0.6292498 , 0.7009263 , 0.4262842 , 0.24607377,\n",
       "         0.48413014, 0.2913878 , 0.72010463],\n",
       "        [0.4982357 , 0.00751996, 0.2505569 , 0.154967  , 0.5415304 ,\n",
       "         0.3639989 , 0.04235179, 0.3279013 ]],\n",
       "\n",
       "       [[0.2375383 , 0.1180457 , 0.2000333 , 0.2569634 , 0.74900543,\n",
       "         0.03588967, 0.3591402 , 0.00090224],\n",
       "        [0.2549352 , 0.63608026, 0.4460236 , 0.6877322 , 0.2635403 ,\n",
       "         0.3727396 , 0.44510098, 0.2701244 ]],\n",
       "\n",
       "       [[0.3726744 , 0.2527044 , 0.0990404 , 0.3167524 , 0.0049208 ,\n",
       "         0.47998018, 0.349472  , 0.27899313],\n",
       "        [0.2468291 , 0.35639978, 0.3034196 , 0.1573008 , 0.1949293 ,\n",
       "         0.2632615 , 0.51254723, 0.4019743 ]]])"
      ]
     },
     "execution_count": 6,
     "metadata": {},
     "output_type": "execute_result"
    }
   ],
   "source": [
    "design"
   ]
  },
  {
   "cell_type": "code",
   "execution_count": 7,
   "metadata": {},
   "outputs": [],
   "source": [
    "# array to dataframe\n",
    "import numpy as np\n",
    "import pandas as pd\n",
    "\n",
    "def arrary_to_dataframe(arr):\n",
    "    \"\"\"\n",
    "    Takes a numpy array as input and returns three lists.\n",
    "    \"\"\"\n",
    "    list1, list2, list3 = [], [], []\n",
    "    for i in range(arr.shape[0]):\n",
    "        for j in range(arr.shape[1]):\n",
    "            for k in range(arr.shape[2]):\n",
    "                if i == 0:\n",
    "                    list1.append(arr[i,j,k])\n",
    "                elif i == 1:\n",
    "                    list2.append(arr[i,j,k])\n",
    "                else:\n",
    "                    list3.append(arr[i,j,k])\n",
    "\n",
    "    # create a dataframe with the three lists as columns\n",
    "    df = pd.DataFrame({'ingredient_x1': list1, 'ingredient_x2': list2, 'ingredient_x3': list3})\n",
    "    return df\n"
   ]
  },
  {
   "cell_type": "code",
   "execution_count": 8,
   "metadata": {},
   "outputs": [
    {
     "name": "stdout",
     "output_type": "stream",
     "text": [
      "[[[0.3897873  0.6292498  0.7009263  0.4262842  0.24607377 0.48413014\n",
      "   0.2913878  0.72010463]\n",
      "  [0.4982357  0.00751996 0.2505569  0.154967   0.5415304  0.3639989\n",
      "   0.04235179 0.3279013 ]]\n",
      "\n",
      " [[0.2375383  0.1180457  0.2000333  0.2569634  0.74900543 0.03588967\n",
      "   0.3591402  0.00090224]\n",
      "  [0.2549352  0.63608026 0.4460236  0.6877322  0.2635403  0.3727396\n",
      "   0.44510098 0.2701244 ]]\n",
      "\n",
      " [[0.3726744  0.2527044  0.0990404  0.3167524  0.0049208  0.47998018\n",
      "   0.349472   0.27899313]\n",
      "  [0.2468291  0.35639978 0.3034196  0.1573008  0.1949293  0.2632615\n",
      "   0.51254723 0.4019743 ]]]\n"
     ]
    }
   ],
   "source": [
    "print(design)"
   ]
  },
  {
   "cell_type": "code",
   "execution_count": 9,
   "metadata": {},
   "outputs": [],
   "source": [
    "df_design=arrary_to_dataframe(design)"
   ]
  },
  {
   "cell_type": "code",
   "execution_count": 10,
   "metadata": {},
   "outputs": [
    {
     "data": {
      "text/html": [
       "<div>\n",
       "<style scoped>\n",
       "    .dataframe tbody tr th:only-of-type {\n",
       "        vertical-align: middle;\n",
       "    }\n",
       "\n",
       "    .dataframe tbody tr th {\n",
       "        vertical-align: top;\n",
       "    }\n",
       "\n",
       "    .dataframe thead th {\n",
       "        text-align: right;\n",
       "    }\n",
       "</style>\n",
       "<table border=\"1\" class=\"dataframe\">\n",
       "  <thead>\n",
       "    <tr style=\"text-align: right;\">\n",
       "      <th></th>\n",
       "      <th>ingredient_x1</th>\n",
       "      <th>ingredient_x2</th>\n",
       "      <th>ingredient_x3</th>\n",
       "    </tr>\n",
       "  </thead>\n",
       "  <tbody>\n",
       "    <tr>\n",
       "      <th>0</th>\n",
       "      <td>0.389787</td>\n",
       "      <td>0.237538</td>\n",
       "      <td>0.372674</td>\n",
       "    </tr>\n",
       "    <tr>\n",
       "      <th>1</th>\n",
       "      <td>0.629250</td>\n",
       "      <td>0.118046</td>\n",
       "      <td>0.252704</td>\n",
       "    </tr>\n",
       "    <tr>\n",
       "      <th>2</th>\n",
       "      <td>0.700926</td>\n",
       "      <td>0.200033</td>\n",
       "      <td>0.099040</td>\n",
       "    </tr>\n",
       "    <tr>\n",
       "      <th>3</th>\n",
       "      <td>0.426284</td>\n",
       "      <td>0.256963</td>\n",
       "      <td>0.316752</td>\n",
       "    </tr>\n",
       "    <tr>\n",
       "      <th>4</th>\n",
       "      <td>0.246074</td>\n",
       "      <td>0.749005</td>\n",
       "      <td>0.004921</td>\n",
       "    </tr>\n",
       "    <tr>\n",
       "      <th>5</th>\n",
       "      <td>0.484130</td>\n",
       "      <td>0.035890</td>\n",
       "      <td>0.479980</td>\n",
       "    </tr>\n",
       "    <tr>\n",
       "      <th>6</th>\n",
       "      <td>0.291388</td>\n",
       "      <td>0.359140</td>\n",
       "      <td>0.349472</td>\n",
       "    </tr>\n",
       "    <tr>\n",
       "      <th>7</th>\n",
       "      <td>0.720105</td>\n",
       "      <td>0.000902</td>\n",
       "      <td>0.278993</td>\n",
       "    </tr>\n",
       "    <tr>\n",
       "      <th>8</th>\n",
       "      <td>0.498236</td>\n",
       "      <td>0.254935</td>\n",
       "      <td>0.246829</td>\n",
       "    </tr>\n",
       "    <tr>\n",
       "      <th>9</th>\n",
       "      <td>0.007520</td>\n",
       "      <td>0.636080</td>\n",
       "      <td>0.356400</td>\n",
       "    </tr>\n",
       "    <tr>\n",
       "      <th>10</th>\n",
       "      <td>0.250557</td>\n",
       "      <td>0.446024</td>\n",
       "      <td>0.303420</td>\n",
       "    </tr>\n",
       "    <tr>\n",
       "      <th>11</th>\n",
       "      <td>0.154967</td>\n",
       "      <td>0.687732</td>\n",
       "      <td>0.157301</td>\n",
       "    </tr>\n",
       "    <tr>\n",
       "      <th>12</th>\n",
       "      <td>0.541530</td>\n",
       "      <td>0.263540</td>\n",
       "      <td>0.194929</td>\n",
       "    </tr>\n",
       "    <tr>\n",
       "      <th>13</th>\n",
       "      <td>0.363999</td>\n",
       "      <td>0.372740</td>\n",
       "      <td>0.263261</td>\n",
       "    </tr>\n",
       "    <tr>\n",
       "      <th>14</th>\n",
       "      <td>0.042352</td>\n",
       "      <td>0.445101</td>\n",
       "      <td>0.512547</td>\n",
       "    </tr>\n",
       "    <tr>\n",
       "      <th>15</th>\n",
       "      <td>0.327901</td>\n",
       "      <td>0.270124</td>\n",
       "      <td>0.401974</td>\n",
       "    </tr>\n",
       "  </tbody>\n",
       "</table>\n",
       "</div>"
      ],
      "text/plain": [
       "    ingredient_x1  ingredient_x2  ingredient_x3\n",
       "0        0.389787       0.237538       0.372674\n",
       "1        0.629250       0.118046       0.252704\n",
       "2        0.700926       0.200033       0.099040\n",
       "3        0.426284       0.256963       0.316752\n",
       "4        0.246074       0.749005       0.004921\n",
       "5        0.484130       0.035890       0.479980\n",
       "6        0.291388       0.359140       0.349472\n",
       "7        0.720105       0.000902       0.278993\n",
       "8        0.498236       0.254935       0.246829\n",
       "9        0.007520       0.636080       0.356400\n",
       "10       0.250557       0.446024       0.303420\n",
       "11       0.154967       0.687732       0.157301\n",
       "12       0.541530       0.263540       0.194929\n",
       "13       0.363999       0.372740       0.263261\n",
       "14       0.042352       0.445101       0.512547\n",
       "15       0.327901       0.270124       0.401974"
      ]
     },
     "execution_count": 10,
     "metadata": {},
     "output_type": "execute_result"
    }
   ],
   "source": [
    "df_design"
   ]
  },
  {
   "cell_type": "code",
   "execution_count": 11,
   "metadata": {},
   "outputs": [],
   "source": [
    "beta = MixtureOptDesign.generate_beta_params(num_params=7,q=3)\n",
    "beta_star, beta_2, beta_3 = MixtureOptDesign.get_beta_coefficients(beta,3,3)"
   ]
  },
  {
   "cell_type": "code",
   "execution_count": 12,
   "metadata": {},
   "outputs": [
    {
     "name": "stdout",
     "output_type": "stream",
     "text": [
      "beta: [ 0.72814891  2.1431709   0.36071225 -0.43609029  0.14421209 -1.3218758 ]\n",
      "\n",
      "beta_star: [0.72814891 2.1431709 ] 2\n",
      "\n",
      "beta_2: [ 0.36071225 -0.43609029  0.14421209] 3\n",
      "\n",
      "beta_3: [-1.3218758] 1\n"
     ]
    }
   ],
   "source": [
    "print('beta:'+' '+str(beta))\n",
    "print()\n",
    "print('beta_star:'+' '+str(beta_star)+ ' '+ str(len(beta_star)))\n",
    "print()\n",
    "print('beta_2:'+' '+str(beta_2)+ ' '+ str(len(beta_2)))\n",
    "print()\n",
    "print('beta_3:'+' '+str(beta_3)+ ' '+ str(len(beta_3)))"
   ]
  },
  {
   "cell_type": "code",
   "execution_count": 13,
   "metadata": {},
   "outputs": [
    {
     "data": {
      "text/plain": [
       "539.9435891517597"
      ]
     },
     "execution_count": 13,
     "metadata": {},
     "output_type": "execute_result"
    }
   ],
   "source": [
    "MixtureOptDesign.get_i_optimality_mnl(design,3,beta)"
   ]
  },
  {
   "cell_type": "code",
   "execution_count": 14,
   "metadata": {},
   "outputs": [],
   "source": [
    "#MixtureOptDesign.get_i_optimality_mnl(optimal_design,3,beta)"
   ]
  },
  {
   "cell_type": "code",
   "execution_count": 15,
   "metadata": {},
   "outputs": [],
   "source": [
    "#utility and choice_probability\n",
    "U = MixtureOptDesign.get_utilities(design,beta_star,beta_2,beta_3,3)\n",
    "P = MixtureOptDesign.get_choice_probabilities(U)"
   ]
  },
  {
   "cell_type": "code",
   "execution_count": 16,
   "metadata": {},
   "outputs": [
    {
     "data": {
      "text/plain": [
       "array([[0.73011243, 0.648118  , 0.94388688, 0.80761631, 1.84971266,\n",
       "        0.32582853, 0.94496928, 0.43869572],\n",
       "       [0.86897795, 1.3997002 , 1.1201992 , 1.60802001, 0.93520669,\n",
       "        1.03797702, 1.00222724, 0.76074759]])"
      ]
     },
     "execution_count": 16,
     "metadata": {},
     "output_type": "execute_result"
    }
   ],
   "source": [
    "U"
   ]
  },
  {
   "cell_type": "code",
   "execution_count": 17,
   "metadata": {},
   "outputs": [
    {
     "data": {
      "text/plain": [
       "array([[0.4653393 , 0.32047664, 0.45603575, 0.30993917, 0.71392134,\n",
       "        0.32912428, 0.48568942, 0.42017577],\n",
       "       [0.5346607 , 0.67952336, 0.54396425, 0.69006083, 0.28607866,\n",
       "        0.67087572, 0.51431058, 0.57982423]])"
      ]
     },
     "execution_count": 17,
     "metadata": {},
     "output_type": "execute_result"
    }
   ],
   "source": [
    "P"
   ]
  },
  {
   "cell_type": "code",
   "execution_count": 18,
   "metadata": {},
   "outputs": [
    {
     "data": {
      "text/html": [
       "<div>\n",
       "<style scoped>\n",
       "    .dataframe tbody tr th:only-of-type {\n",
       "        vertical-align: middle;\n",
       "    }\n",
       "\n",
       "    .dataframe tbody tr th {\n",
       "        vertical-align: top;\n",
       "    }\n",
       "\n",
       "    .dataframe thead th {\n",
       "        text-align: right;\n",
       "    }\n",
       "</style>\n",
       "<table border=\"1\" class=\"dataframe\">\n",
       "  <thead>\n",
       "    <tr style=\"text-align: right;\">\n",
       "      <th></th>\n",
       "      <th>ingredient_x1</th>\n",
       "      <th>ingredient_x2</th>\n",
       "      <th>ingredient_x3</th>\n",
       "      <th>Utility_U</th>\n",
       "      <th>Choice_pobability_P</th>\n",
       "    </tr>\n",
       "  </thead>\n",
       "  <tbody>\n",
       "    <tr>\n",
       "      <th>0</th>\n",
       "      <td>0.389787</td>\n",
       "      <td>0.237538</td>\n",
       "      <td>0.372674</td>\n",
       "      <td>0.730112</td>\n",
       "      <td>0.465339</td>\n",
       "    </tr>\n",
       "    <tr>\n",
       "      <th>1</th>\n",
       "      <td>0.629250</td>\n",
       "      <td>0.118046</td>\n",
       "      <td>0.252704</td>\n",
       "      <td>0.648118</td>\n",
       "      <td>0.320477</td>\n",
       "    </tr>\n",
       "    <tr>\n",
       "      <th>2</th>\n",
       "      <td>0.700926</td>\n",
       "      <td>0.200033</td>\n",
       "      <td>0.099040</td>\n",
       "      <td>0.943887</td>\n",
       "      <td>0.456036</td>\n",
       "    </tr>\n",
       "    <tr>\n",
       "      <th>3</th>\n",
       "      <td>0.426284</td>\n",
       "      <td>0.256963</td>\n",
       "      <td>0.316752</td>\n",
       "      <td>0.807616</td>\n",
       "      <td>0.309939</td>\n",
       "    </tr>\n",
       "    <tr>\n",
       "      <th>4</th>\n",
       "      <td>0.246074</td>\n",
       "      <td>0.749005</td>\n",
       "      <td>0.004921</td>\n",
       "      <td>1.849713</td>\n",
       "      <td>0.713921</td>\n",
       "    </tr>\n",
       "    <tr>\n",
       "      <th>5</th>\n",
       "      <td>0.484130</td>\n",
       "      <td>0.035890</td>\n",
       "      <td>0.479980</td>\n",
       "      <td>0.325829</td>\n",
       "      <td>0.329124</td>\n",
       "    </tr>\n",
       "    <tr>\n",
       "      <th>6</th>\n",
       "      <td>0.291388</td>\n",
       "      <td>0.359140</td>\n",
       "      <td>0.349472</td>\n",
       "      <td>0.944969</td>\n",
       "      <td>0.485689</td>\n",
       "    </tr>\n",
       "    <tr>\n",
       "      <th>7</th>\n",
       "      <td>0.720105</td>\n",
       "      <td>0.000902</td>\n",
       "      <td>0.278993</td>\n",
       "      <td>0.438696</td>\n",
       "      <td>0.420176</td>\n",
       "    </tr>\n",
       "    <tr>\n",
       "      <th>8</th>\n",
       "      <td>0.498236</td>\n",
       "      <td>0.254935</td>\n",
       "      <td>0.246829</td>\n",
       "      <td>0.868978</td>\n",
       "      <td>0.534661</td>\n",
       "    </tr>\n",
       "    <tr>\n",
       "      <th>9</th>\n",
       "      <td>0.007520</td>\n",
       "      <td>0.636080</td>\n",
       "      <td>0.356400</td>\n",
       "      <td>1.399700</td>\n",
       "      <td>0.679523</td>\n",
       "    </tr>\n",
       "    <tr>\n",
       "      <th>10</th>\n",
       "      <td>0.250557</td>\n",
       "      <td>0.446024</td>\n",
       "      <td>0.303420</td>\n",
       "      <td>1.120199</td>\n",
       "      <td>0.543964</td>\n",
       "    </tr>\n",
       "    <tr>\n",
       "      <th>11</th>\n",
       "      <td>0.154967</td>\n",
       "      <td>0.687732</td>\n",
       "      <td>0.157301</td>\n",
       "      <td>1.608020</td>\n",
       "      <td>0.690061</td>\n",
       "    </tr>\n",
       "    <tr>\n",
       "      <th>12</th>\n",
       "      <td>0.541530</td>\n",
       "      <td>0.263540</td>\n",
       "      <td>0.194929</td>\n",
       "      <td>0.935207</td>\n",
       "      <td>0.286079</td>\n",
       "    </tr>\n",
       "    <tr>\n",
       "      <th>13</th>\n",
       "      <td>0.363999</td>\n",
       "      <td>0.372740</td>\n",
       "      <td>0.263261</td>\n",
       "      <td>1.037977</td>\n",
       "      <td>0.670876</td>\n",
       "    </tr>\n",
       "    <tr>\n",
       "      <th>14</th>\n",
       "      <td>0.042352</td>\n",
       "      <td>0.445101</td>\n",
       "      <td>0.512547</td>\n",
       "      <td>1.002227</td>\n",
       "      <td>0.514311</td>\n",
       "    </tr>\n",
       "    <tr>\n",
       "      <th>15</th>\n",
       "      <td>0.327901</td>\n",
       "      <td>0.270124</td>\n",
       "      <td>0.401974</td>\n",
       "      <td>0.760748</td>\n",
       "      <td>0.579824</td>\n",
       "    </tr>\n",
       "  </tbody>\n",
       "</table>\n",
       "</div>"
      ],
      "text/plain": [
       "    ingredient_x1  ingredient_x2  ingredient_x3  Utility_U  \\\n",
       "0        0.389787       0.237538       0.372674   0.730112   \n",
       "1        0.629250       0.118046       0.252704   0.648118   \n",
       "2        0.700926       0.200033       0.099040   0.943887   \n",
       "3        0.426284       0.256963       0.316752   0.807616   \n",
       "4        0.246074       0.749005       0.004921   1.849713   \n",
       "5        0.484130       0.035890       0.479980   0.325829   \n",
       "6        0.291388       0.359140       0.349472   0.944969   \n",
       "7        0.720105       0.000902       0.278993   0.438696   \n",
       "8        0.498236       0.254935       0.246829   0.868978   \n",
       "9        0.007520       0.636080       0.356400   1.399700   \n",
       "10       0.250557       0.446024       0.303420   1.120199   \n",
       "11       0.154967       0.687732       0.157301   1.608020   \n",
       "12       0.541530       0.263540       0.194929   0.935207   \n",
       "13       0.363999       0.372740       0.263261   1.037977   \n",
       "14       0.042352       0.445101       0.512547   1.002227   \n",
       "15       0.327901       0.270124       0.401974   0.760748   \n",
       "\n",
       "    Choice_pobability_P  \n",
       "0              0.465339  \n",
       "1              0.320477  \n",
       "2              0.456036  \n",
       "3              0.309939  \n",
       "4              0.713921  \n",
       "5              0.329124  \n",
       "6              0.485689  \n",
       "7              0.420176  \n",
       "8              0.534661  \n",
       "9              0.679523  \n",
       "10             0.543964  \n",
       "11             0.690061  \n",
       "12             0.286079  \n",
       "13             0.670876  \n",
       "14             0.514311  \n",
       "15             0.579824  "
      ]
     },
     "execution_count": 18,
     "metadata": {},
     "output_type": "execute_result"
    }
   ],
   "source": [
    "#Append U and P to df_design\n",
    "df_design['Utility_U'] = U.flatten()\n",
    "df_design['Choice_pobability_P'] = P.flatten()\n",
    "df_design"
   ]
  },
  {
   "cell_type": "code",
   "execution_count": 19,
   "metadata": {},
   "outputs": [],
   "source": [
    "#Save dataframe as CSV\n",
    "df_design.to_csv('df_design.csv', index=False)"
   ]
  },
  {
   "cell_type": "code",
   "execution_count": 20,
   "metadata": {},
   "outputs": [],
   "source": [
    "model_array = MixtureOptDesign.get_model_matrix(design,3)"
   ]
  },
  {
   "cell_type": "code",
   "execution_count": 21,
   "metadata": {},
   "outputs": [],
   "source": [
    "#optimal design\n",
    "\n",
    "b = MixtureOptDesign.CoordinateExchangeIOptimal(design,order=3,n_points=100,iteration=10)"
   ]
  },
  {
   "cell_type": "code",
   "execution_count": 22,
   "metadata": {},
   "outputs": [],
   "source": [
    "b.get_design()\n",
    "optimal_design=b.optimize_design()"
   ]
  },
  {
   "cell_type": "code",
   "execution_count": 23,
   "metadata": {},
   "outputs": [
    {
     "data": {
      "text/html": [
       "<div>\n",
       "<style scoped>\n",
       "    .dataframe tbody tr th:only-of-type {\n",
       "        vertical-align: middle;\n",
       "    }\n",
       "\n",
       "    .dataframe tbody tr th {\n",
       "        vertical-align: top;\n",
       "    }\n",
       "\n",
       "    .dataframe thead th {\n",
       "        text-align: right;\n",
       "    }\n",
       "</style>\n",
       "<table border=\"1\" class=\"dataframe\">\n",
       "  <thead>\n",
       "    <tr style=\"text-align: right;\">\n",
       "      <th></th>\n",
       "      <th>ingredient_x1</th>\n",
       "      <th>ingredient_x2</th>\n",
       "      <th>ingredient_x3</th>\n",
       "    </tr>\n",
       "  </thead>\n",
       "  <tbody>\n",
       "    <tr>\n",
       "      <th>0</th>\n",
       "      <td>0.000000</td>\n",
       "      <td>0.000000</td>\n",
       "      <td>1.000000</td>\n",
       "    </tr>\n",
       "    <tr>\n",
       "      <th>1</th>\n",
       "      <td>0.000000</td>\n",
       "      <td>1.000000</td>\n",
       "      <td>0.000000</td>\n",
       "    </tr>\n",
       "    <tr>\n",
       "      <th>2</th>\n",
       "      <td>0.666667</td>\n",
       "      <td>0.333333</td>\n",
       "      <td>0.000000</td>\n",
       "    </tr>\n",
       "    <tr>\n",
       "      <th>3</th>\n",
       "      <td>0.000000</td>\n",
       "      <td>0.000000</td>\n",
       "      <td>1.000000</td>\n",
       "    </tr>\n",
       "    <tr>\n",
       "      <th>4</th>\n",
       "      <td>1.000000</td>\n",
       "      <td>0.000000</td>\n",
       "      <td>0.000000</td>\n",
       "    </tr>\n",
       "    <tr>\n",
       "      <th>5</th>\n",
       "      <td>0.000000</td>\n",
       "      <td>0.000000</td>\n",
       "      <td>1.000000</td>\n",
       "    </tr>\n",
       "    <tr>\n",
       "      <th>6</th>\n",
       "      <td>0.616162</td>\n",
       "      <td>0.383838</td>\n",
       "      <td>0.000000</td>\n",
       "    </tr>\n",
       "    <tr>\n",
       "      <th>7</th>\n",
       "      <td>0.000000</td>\n",
       "      <td>0.000000</td>\n",
       "      <td>1.000000</td>\n",
       "    </tr>\n",
       "    <tr>\n",
       "      <th>8</th>\n",
       "      <td>0.575758</td>\n",
       "      <td>0.000000</td>\n",
       "      <td>0.424242</td>\n",
       "    </tr>\n",
       "    <tr>\n",
       "      <th>9</th>\n",
       "      <td>0.076988</td>\n",
       "      <td>0.104830</td>\n",
       "      <td>0.818182</td>\n",
       "    </tr>\n",
       "    <tr>\n",
       "      <th>10</th>\n",
       "      <td>0.111111</td>\n",
       "      <td>0.000000</td>\n",
       "      <td>0.888889</td>\n",
       "    </tr>\n",
       "    <tr>\n",
       "      <th>11</th>\n",
       "      <td>0.000000</td>\n",
       "      <td>0.565657</td>\n",
       "      <td>0.434343</td>\n",
       "    </tr>\n",
       "    <tr>\n",
       "      <th>12</th>\n",
       "      <td>0.373678</td>\n",
       "      <td>0.616162</td>\n",
       "      <td>0.010160</td>\n",
       "    </tr>\n",
       "    <tr>\n",
       "      <th>13</th>\n",
       "      <td>0.344059</td>\n",
       "      <td>0.333333</td>\n",
       "      <td>0.322607</td>\n",
       "    </tr>\n",
       "    <tr>\n",
       "      <th>14</th>\n",
       "      <td>0.000000</td>\n",
       "      <td>0.434343</td>\n",
       "      <td>0.565657</td>\n",
       "    </tr>\n",
       "    <tr>\n",
       "      <th>15</th>\n",
       "      <td>0.344102</td>\n",
       "      <td>0.333333</td>\n",
       "      <td>0.322565</td>\n",
       "    </tr>\n",
       "  </tbody>\n",
       "</table>\n",
       "</div>"
      ],
      "text/plain": [
       "    ingredient_x1  ingredient_x2  ingredient_x3\n",
       "0        0.000000       0.000000       1.000000\n",
       "1        0.000000       1.000000       0.000000\n",
       "2        0.666667       0.333333       0.000000\n",
       "3        0.000000       0.000000       1.000000\n",
       "4        1.000000       0.000000       0.000000\n",
       "5        0.000000       0.000000       1.000000\n",
       "6        0.616162       0.383838       0.000000\n",
       "7        0.000000       0.000000       1.000000\n",
       "8        0.575758       0.000000       0.424242\n",
       "9        0.076988       0.104830       0.818182\n",
       "10       0.111111       0.000000       0.888889\n",
       "11       0.000000       0.565657       0.434343\n",
       "12       0.373678       0.616162       0.010160\n",
       "13       0.344059       0.333333       0.322607\n",
       "14       0.000000       0.434343       0.565657\n",
       "15       0.344102       0.333333       0.322565"
      ]
     },
     "execution_count": 23,
     "metadata": {},
     "output_type": "execute_result"
    }
   ],
   "source": [
    "arrary_to_dataframe(optimal_design)"
   ]
  },
  {
   "cell_type": "code",
   "execution_count": 24,
   "metadata": {},
   "outputs": [],
   "source": [
    "plot = MixtureOptDesign.MNLVis.plot_ternary_design(optimal_design)"
   ]
  },
  {
   "cell_type": "code",
   "execution_count": 25,
   "metadata": {},
   "outputs": [
    {
     "data": {
      "application/vnd.plotly.v1+json": {
       "config": {
        "plotlyServerURL": "https://plot.ly"
       },
       "data": [
        {
         "a": [
          0.3726744,
          0.2527044,
          0.0990404,
          0.3167524,
          0.004920801,
          0.47998018,
          0.349472,
          0.278993125,
          0.2468291,
          0.356399779,
          0.3034196,
          0.1573008,
          0.1949293,
          0.2632615,
          0.51254723,
          0.4019743
         ],
         "b": [
          0.3897873,
          0.6292498,
          0.7009263,
          0.4262842,
          0.24607377,
          0.48413014,
          0.2913878,
          0.7201046335,
          0.4982357,
          0.007519965,
          0.2505569,
          0.154967,
          0.5415304,
          0.3639989,
          0.04235179,
          0.3279013
         ],
         "c": [
          0.2375383,
          0.1180457,
          0.2000333,
          0.2569634,
          0.749005428,
          0.03588967,
          0.3591402,
          0.0009022414,
          0.2549352,
          0.636080256,
          0.4460236,
          0.6877322,
          0.2635403,
          0.3727396,
          0.44510098,
          0.2701244
         ],
         "cliponaxis": false,
         "marker": {
          "color": "blue",
          "size": 7,
          "symbol": "circle"
         },
         "mode": "markers",
         "name": "Design Points",
         "type": "scatterternary"
        }
       ],
       "layout": {
        "height": 600,
        "showlegend": true,
        "template": {
         "data": {
          "bar": [
           {
            "error_x": {
             "color": "#2a3f5f"
            },
            "error_y": {
             "color": "#2a3f5f"
            },
            "marker": {
             "line": {
              "color": "#E5ECF6",
              "width": 0.5
             },
             "pattern": {
              "fillmode": "overlay",
              "size": 10,
              "solidity": 0.2
             }
            },
            "type": "bar"
           }
          ],
          "barpolar": [
           {
            "marker": {
             "line": {
              "color": "#E5ECF6",
              "width": 0.5
             },
             "pattern": {
              "fillmode": "overlay",
              "size": 10,
              "solidity": 0.2
             }
            },
            "type": "barpolar"
           }
          ],
          "carpet": [
           {
            "aaxis": {
             "endlinecolor": "#2a3f5f",
             "gridcolor": "white",
             "linecolor": "white",
             "minorgridcolor": "white",
             "startlinecolor": "#2a3f5f"
            },
            "baxis": {
             "endlinecolor": "#2a3f5f",
             "gridcolor": "white",
             "linecolor": "white",
             "minorgridcolor": "white",
             "startlinecolor": "#2a3f5f"
            },
            "type": "carpet"
           }
          ],
          "choropleth": [
           {
            "colorbar": {
             "outlinewidth": 0,
             "ticks": ""
            },
            "type": "choropleth"
           }
          ],
          "contour": [
           {
            "colorbar": {
             "outlinewidth": 0,
             "ticks": ""
            },
            "colorscale": [
             [
              0,
              "#0d0887"
             ],
             [
              0.1111111111111111,
              "#46039f"
             ],
             [
              0.2222222222222222,
              "#7201a8"
             ],
             [
              0.3333333333333333,
              "#9c179e"
             ],
             [
              0.4444444444444444,
              "#bd3786"
             ],
             [
              0.5555555555555556,
              "#d8576b"
             ],
             [
              0.6666666666666666,
              "#ed7953"
             ],
             [
              0.7777777777777778,
              "#fb9f3a"
             ],
             [
              0.8888888888888888,
              "#fdca26"
             ],
             [
              1,
              "#f0f921"
             ]
            ],
            "type": "contour"
           }
          ],
          "contourcarpet": [
           {
            "colorbar": {
             "outlinewidth": 0,
             "ticks": ""
            },
            "type": "contourcarpet"
           }
          ],
          "heatmap": [
           {
            "colorbar": {
             "outlinewidth": 0,
             "ticks": ""
            },
            "colorscale": [
             [
              0,
              "#0d0887"
             ],
             [
              0.1111111111111111,
              "#46039f"
             ],
             [
              0.2222222222222222,
              "#7201a8"
             ],
             [
              0.3333333333333333,
              "#9c179e"
             ],
             [
              0.4444444444444444,
              "#bd3786"
             ],
             [
              0.5555555555555556,
              "#d8576b"
             ],
             [
              0.6666666666666666,
              "#ed7953"
             ],
             [
              0.7777777777777778,
              "#fb9f3a"
             ],
             [
              0.8888888888888888,
              "#fdca26"
             ],
             [
              1,
              "#f0f921"
             ]
            ],
            "type": "heatmap"
           }
          ],
          "heatmapgl": [
           {
            "colorbar": {
             "outlinewidth": 0,
             "ticks": ""
            },
            "colorscale": [
             [
              0,
              "#0d0887"
             ],
             [
              0.1111111111111111,
              "#46039f"
             ],
             [
              0.2222222222222222,
              "#7201a8"
             ],
             [
              0.3333333333333333,
              "#9c179e"
             ],
             [
              0.4444444444444444,
              "#bd3786"
             ],
             [
              0.5555555555555556,
              "#d8576b"
             ],
             [
              0.6666666666666666,
              "#ed7953"
             ],
             [
              0.7777777777777778,
              "#fb9f3a"
             ],
             [
              0.8888888888888888,
              "#fdca26"
             ],
             [
              1,
              "#f0f921"
             ]
            ],
            "type": "heatmapgl"
           }
          ],
          "histogram": [
           {
            "marker": {
             "pattern": {
              "fillmode": "overlay",
              "size": 10,
              "solidity": 0.2
             }
            },
            "type": "histogram"
           }
          ],
          "histogram2d": [
           {
            "colorbar": {
             "outlinewidth": 0,
             "ticks": ""
            },
            "colorscale": [
             [
              0,
              "#0d0887"
             ],
             [
              0.1111111111111111,
              "#46039f"
             ],
             [
              0.2222222222222222,
              "#7201a8"
             ],
             [
              0.3333333333333333,
              "#9c179e"
             ],
             [
              0.4444444444444444,
              "#bd3786"
             ],
             [
              0.5555555555555556,
              "#d8576b"
             ],
             [
              0.6666666666666666,
              "#ed7953"
             ],
             [
              0.7777777777777778,
              "#fb9f3a"
             ],
             [
              0.8888888888888888,
              "#fdca26"
             ],
             [
              1,
              "#f0f921"
             ]
            ],
            "type": "histogram2d"
           }
          ],
          "histogram2dcontour": [
           {
            "colorbar": {
             "outlinewidth": 0,
             "ticks": ""
            },
            "colorscale": [
             [
              0,
              "#0d0887"
             ],
             [
              0.1111111111111111,
              "#46039f"
             ],
             [
              0.2222222222222222,
              "#7201a8"
             ],
             [
              0.3333333333333333,
              "#9c179e"
             ],
             [
              0.4444444444444444,
              "#bd3786"
             ],
             [
              0.5555555555555556,
              "#d8576b"
             ],
             [
              0.6666666666666666,
              "#ed7953"
             ],
             [
              0.7777777777777778,
              "#fb9f3a"
             ],
             [
              0.8888888888888888,
              "#fdca26"
             ],
             [
              1,
              "#f0f921"
             ]
            ],
            "type": "histogram2dcontour"
           }
          ],
          "mesh3d": [
           {
            "colorbar": {
             "outlinewidth": 0,
             "ticks": ""
            },
            "type": "mesh3d"
           }
          ],
          "parcoords": [
           {
            "line": {
             "colorbar": {
              "outlinewidth": 0,
              "ticks": ""
             }
            },
            "type": "parcoords"
           }
          ],
          "pie": [
           {
            "automargin": true,
            "type": "pie"
           }
          ],
          "scatter": [
           {
            "fillpattern": {
             "fillmode": "overlay",
             "size": 10,
             "solidity": 0.2
            },
            "type": "scatter"
           }
          ],
          "scatter3d": [
           {
            "line": {
             "colorbar": {
              "outlinewidth": 0,
              "ticks": ""
             }
            },
            "marker": {
             "colorbar": {
              "outlinewidth": 0,
              "ticks": ""
             }
            },
            "type": "scatter3d"
           }
          ],
          "scattercarpet": [
           {
            "marker": {
             "colorbar": {
              "outlinewidth": 0,
              "ticks": ""
             }
            },
            "type": "scattercarpet"
           }
          ],
          "scattergeo": [
           {
            "marker": {
             "colorbar": {
              "outlinewidth": 0,
              "ticks": ""
             }
            },
            "type": "scattergeo"
           }
          ],
          "scattergl": [
           {
            "marker": {
             "colorbar": {
              "outlinewidth": 0,
              "ticks": ""
             }
            },
            "type": "scattergl"
           }
          ],
          "scattermapbox": [
           {
            "marker": {
             "colorbar": {
              "outlinewidth": 0,
              "ticks": ""
             }
            },
            "type": "scattermapbox"
           }
          ],
          "scatterpolar": [
           {
            "marker": {
             "colorbar": {
              "outlinewidth": 0,
              "ticks": ""
             }
            },
            "type": "scatterpolar"
           }
          ],
          "scatterpolargl": [
           {
            "marker": {
             "colorbar": {
              "outlinewidth": 0,
              "ticks": ""
             }
            },
            "type": "scatterpolargl"
           }
          ],
          "scatterternary": [
           {
            "marker": {
             "colorbar": {
              "outlinewidth": 0,
              "ticks": ""
             }
            },
            "type": "scatterternary"
           }
          ],
          "surface": [
           {
            "colorbar": {
             "outlinewidth": 0,
             "ticks": ""
            },
            "colorscale": [
             [
              0,
              "#0d0887"
             ],
             [
              0.1111111111111111,
              "#46039f"
             ],
             [
              0.2222222222222222,
              "#7201a8"
             ],
             [
              0.3333333333333333,
              "#9c179e"
             ],
             [
              0.4444444444444444,
              "#bd3786"
             ],
             [
              0.5555555555555556,
              "#d8576b"
             ],
             [
              0.6666666666666666,
              "#ed7953"
             ],
             [
              0.7777777777777778,
              "#fb9f3a"
             ],
             [
              0.8888888888888888,
              "#fdca26"
             ],
             [
              1,
              "#f0f921"
             ]
            ],
            "type": "surface"
           }
          ],
          "table": [
           {
            "cells": {
             "fill": {
              "color": "#EBF0F8"
             },
             "line": {
              "color": "white"
             }
            },
            "header": {
             "fill": {
              "color": "#C8D4E3"
             },
             "line": {
              "color": "white"
             }
            },
            "type": "table"
           }
          ]
         },
         "layout": {
          "annotationdefaults": {
           "arrowcolor": "#2a3f5f",
           "arrowhead": 0,
           "arrowwidth": 1
          },
          "autotypenumbers": "strict",
          "coloraxis": {
           "colorbar": {
            "outlinewidth": 0,
            "ticks": ""
           }
          },
          "colorscale": {
           "diverging": [
            [
             0,
             "#8e0152"
            ],
            [
             0.1,
             "#c51b7d"
            ],
            [
             0.2,
             "#de77ae"
            ],
            [
             0.3,
             "#f1b6da"
            ],
            [
             0.4,
             "#fde0ef"
            ],
            [
             0.5,
             "#f7f7f7"
            ],
            [
             0.6,
             "#e6f5d0"
            ],
            [
             0.7,
             "#b8e186"
            ],
            [
             0.8,
             "#7fbc41"
            ],
            [
             0.9,
             "#4d9221"
            ],
            [
             1,
             "#276419"
            ]
           ],
           "sequential": [
            [
             0,
             "#0d0887"
            ],
            [
             0.1111111111111111,
             "#46039f"
            ],
            [
             0.2222222222222222,
             "#7201a8"
            ],
            [
             0.3333333333333333,
             "#9c179e"
            ],
            [
             0.4444444444444444,
             "#bd3786"
            ],
            [
             0.5555555555555556,
             "#d8576b"
            ],
            [
             0.6666666666666666,
             "#ed7953"
            ],
            [
             0.7777777777777778,
             "#fb9f3a"
            ],
            [
             0.8888888888888888,
             "#fdca26"
            ],
            [
             1,
             "#f0f921"
            ]
           ],
           "sequentialminus": [
            [
             0,
             "#0d0887"
            ],
            [
             0.1111111111111111,
             "#46039f"
            ],
            [
             0.2222222222222222,
             "#7201a8"
            ],
            [
             0.3333333333333333,
             "#9c179e"
            ],
            [
             0.4444444444444444,
             "#bd3786"
            ],
            [
             0.5555555555555556,
             "#d8576b"
            ],
            [
             0.6666666666666666,
             "#ed7953"
            ],
            [
             0.7777777777777778,
             "#fb9f3a"
            ],
            [
             0.8888888888888888,
             "#fdca26"
            ],
            [
             1,
             "#f0f921"
            ]
           ]
          },
          "colorway": [
           "#636efa",
           "#EF553B",
           "#00cc96",
           "#ab63fa",
           "#FFA15A",
           "#19d3f3",
           "#FF6692",
           "#B6E880",
           "#FF97FF",
           "#FECB52"
          ],
          "font": {
           "color": "#2a3f5f"
          },
          "geo": {
           "bgcolor": "white",
           "lakecolor": "white",
           "landcolor": "#E5ECF6",
           "showlakes": true,
           "showland": true,
           "subunitcolor": "white"
          },
          "hoverlabel": {
           "align": "left"
          },
          "hovermode": "closest",
          "mapbox": {
           "style": "light"
          },
          "paper_bgcolor": "white",
          "plot_bgcolor": "#E5ECF6",
          "polar": {
           "angularaxis": {
            "gridcolor": "white",
            "linecolor": "white",
            "ticks": ""
           },
           "bgcolor": "#E5ECF6",
           "radialaxis": {
            "gridcolor": "white",
            "linecolor": "white",
            "ticks": ""
           }
          },
          "scene": {
           "xaxis": {
            "backgroundcolor": "#E5ECF6",
            "gridcolor": "white",
            "gridwidth": 2,
            "linecolor": "white",
            "showbackground": true,
            "ticks": "",
            "zerolinecolor": "white"
           },
           "yaxis": {
            "backgroundcolor": "#E5ECF6",
            "gridcolor": "white",
            "gridwidth": 2,
            "linecolor": "white",
            "showbackground": true,
            "ticks": "",
            "zerolinecolor": "white"
           },
           "zaxis": {
            "backgroundcolor": "#E5ECF6",
            "gridcolor": "white",
            "gridwidth": 2,
            "linecolor": "white",
            "showbackground": true,
            "ticks": "",
            "zerolinecolor": "white"
           }
          },
          "shapedefaults": {
           "line": {
            "color": "#2a3f5f"
           }
          },
          "ternary": {
           "aaxis": {
            "gridcolor": "white",
            "linecolor": "white",
            "ticks": ""
           },
           "baxis": {
            "gridcolor": "white",
            "linecolor": "white",
            "ticks": ""
           },
           "bgcolor": "#E5ECF6",
           "caxis": {
            "gridcolor": "white",
            "linecolor": "white",
            "ticks": ""
           }
          },
          "title": {
           "x": 0.05
          },
          "xaxis": {
           "automargin": true,
           "gridcolor": "white",
           "linecolor": "white",
           "ticks": "",
           "title": {
            "standoff": 15
           },
           "zerolinecolor": "white",
           "zerolinewidth": 2
          },
          "yaxis": {
           "automargin": true,
           "gridcolor": "white",
           "linecolor": "white",
           "ticks": "",
           "title": {
            "standoff": 15
           },
           "zerolinecolor": "white",
           "zerolinewidth": 2
          }
         }
        },
        "ternary": {
         "aaxis": {
          "title": {
           "text": "Ingredient 1"
          }
         },
         "baxis": {
          "title": {
           "text": "Ingredient 2"
          }
         },
         "caxis": {
          "title": {
           "text": "Ingredient 3"
          }
         },
         "sum": 1
        },
        "width": 600
       }
      }
     },
     "metadata": {},
     "output_type": "display_data"
    }
   ],
   "source": [
    "MixtureOptDesign.MNLVis.plot_ternary_design(design)"
   ]
  },
  {
   "cell_type": "code",
   "execution_count": 26,
   "metadata": {},
   "outputs": [
    {
     "data": {
      "application/vnd.plotly.v1+json": {
       "config": {
        "plotlyServerURL": "https://plot.ly"
       },
       "data": [
        {
         "a": [
          1,
          0,
          0,
          1,
          0,
          1,
          0,
          1,
          0.4242424242424241,
          0.8181818181818182,
          0.888888888888889,
          0.43434343434343436,
          0.010160468294832673,
          0.32260725462631773,
          0.5656565656565655,
          0.3225651306270494
         ],
         "b": [
          0,
          0,
          0.6666666666666666,
          0,
          1,
          0,
          0.6161616161616162,
          0,
          0.5757575757575758,
          0.07698803340970976,
          0.11111116878818986,
          0,
          0.37367791554355084,
          0.34405941204034884,
          0,
          0.34410153603961713
         ],
         "c": [
          0,
          1,
          0.33333333333333337,
          0,
          0,
          0,
          0.3838383838383839,
          0,
          0,
          0.10483014840847205,
          0,
          0.5656565656565654,
          0.6161616161616162,
          0.33333333333333337,
          0.43434343434343436,
          0.33333333333333337
         ],
         "cliponaxis": false,
         "marker": {
          "color": "blue",
          "size": 7,
          "symbol": "circle"
         },
         "mode": "markers",
         "name": "Design Points",
         "type": "scatterternary"
        }
       ],
       "layout": {
        "height": 600,
        "showlegend": true,
        "template": {
         "data": {
          "bar": [
           {
            "error_x": {
             "color": "#2a3f5f"
            },
            "error_y": {
             "color": "#2a3f5f"
            },
            "marker": {
             "line": {
              "color": "#E5ECF6",
              "width": 0.5
             },
             "pattern": {
              "fillmode": "overlay",
              "size": 10,
              "solidity": 0.2
             }
            },
            "type": "bar"
           }
          ],
          "barpolar": [
           {
            "marker": {
             "line": {
              "color": "#E5ECF6",
              "width": 0.5
             },
             "pattern": {
              "fillmode": "overlay",
              "size": 10,
              "solidity": 0.2
             }
            },
            "type": "barpolar"
           }
          ],
          "carpet": [
           {
            "aaxis": {
             "endlinecolor": "#2a3f5f",
             "gridcolor": "white",
             "linecolor": "white",
             "minorgridcolor": "white",
             "startlinecolor": "#2a3f5f"
            },
            "baxis": {
             "endlinecolor": "#2a3f5f",
             "gridcolor": "white",
             "linecolor": "white",
             "minorgridcolor": "white",
             "startlinecolor": "#2a3f5f"
            },
            "type": "carpet"
           }
          ],
          "choropleth": [
           {
            "colorbar": {
             "outlinewidth": 0,
             "ticks": ""
            },
            "type": "choropleth"
           }
          ],
          "contour": [
           {
            "colorbar": {
             "outlinewidth": 0,
             "ticks": ""
            },
            "colorscale": [
             [
              0,
              "#0d0887"
             ],
             [
              0.1111111111111111,
              "#46039f"
             ],
             [
              0.2222222222222222,
              "#7201a8"
             ],
             [
              0.3333333333333333,
              "#9c179e"
             ],
             [
              0.4444444444444444,
              "#bd3786"
             ],
             [
              0.5555555555555556,
              "#d8576b"
             ],
             [
              0.6666666666666666,
              "#ed7953"
             ],
             [
              0.7777777777777778,
              "#fb9f3a"
             ],
             [
              0.8888888888888888,
              "#fdca26"
             ],
             [
              1,
              "#f0f921"
             ]
            ],
            "type": "contour"
           }
          ],
          "contourcarpet": [
           {
            "colorbar": {
             "outlinewidth": 0,
             "ticks": ""
            },
            "type": "contourcarpet"
           }
          ],
          "heatmap": [
           {
            "colorbar": {
             "outlinewidth": 0,
             "ticks": ""
            },
            "colorscale": [
             [
              0,
              "#0d0887"
             ],
             [
              0.1111111111111111,
              "#46039f"
             ],
             [
              0.2222222222222222,
              "#7201a8"
             ],
             [
              0.3333333333333333,
              "#9c179e"
             ],
             [
              0.4444444444444444,
              "#bd3786"
             ],
             [
              0.5555555555555556,
              "#d8576b"
             ],
             [
              0.6666666666666666,
              "#ed7953"
             ],
             [
              0.7777777777777778,
              "#fb9f3a"
             ],
             [
              0.8888888888888888,
              "#fdca26"
             ],
             [
              1,
              "#f0f921"
             ]
            ],
            "type": "heatmap"
           }
          ],
          "heatmapgl": [
           {
            "colorbar": {
             "outlinewidth": 0,
             "ticks": ""
            },
            "colorscale": [
             [
              0,
              "#0d0887"
             ],
             [
              0.1111111111111111,
              "#46039f"
             ],
             [
              0.2222222222222222,
              "#7201a8"
             ],
             [
              0.3333333333333333,
              "#9c179e"
             ],
             [
              0.4444444444444444,
              "#bd3786"
             ],
             [
              0.5555555555555556,
              "#d8576b"
             ],
             [
              0.6666666666666666,
              "#ed7953"
             ],
             [
              0.7777777777777778,
              "#fb9f3a"
             ],
             [
              0.8888888888888888,
              "#fdca26"
             ],
             [
              1,
              "#f0f921"
             ]
            ],
            "type": "heatmapgl"
           }
          ],
          "histogram": [
           {
            "marker": {
             "pattern": {
              "fillmode": "overlay",
              "size": 10,
              "solidity": 0.2
             }
            },
            "type": "histogram"
           }
          ],
          "histogram2d": [
           {
            "colorbar": {
             "outlinewidth": 0,
             "ticks": ""
            },
            "colorscale": [
             [
              0,
              "#0d0887"
             ],
             [
              0.1111111111111111,
              "#46039f"
             ],
             [
              0.2222222222222222,
              "#7201a8"
             ],
             [
              0.3333333333333333,
              "#9c179e"
             ],
             [
              0.4444444444444444,
              "#bd3786"
             ],
             [
              0.5555555555555556,
              "#d8576b"
             ],
             [
              0.6666666666666666,
              "#ed7953"
             ],
             [
              0.7777777777777778,
              "#fb9f3a"
             ],
             [
              0.8888888888888888,
              "#fdca26"
             ],
             [
              1,
              "#f0f921"
             ]
            ],
            "type": "histogram2d"
           }
          ],
          "histogram2dcontour": [
           {
            "colorbar": {
             "outlinewidth": 0,
             "ticks": ""
            },
            "colorscale": [
             [
              0,
              "#0d0887"
             ],
             [
              0.1111111111111111,
              "#46039f"
             ],
             [
              0.2222222222222222,
              "#7201a8"
             ],
             [
              0.3333333333333333,
              "#9c179e"
             ],
             [
              0.4444444444444444,
              "#bd3786"
             ],
             [
              0.5555555555555556,
              "#d8576b"
             ],
             [
              0.6666666666666666,
              "#ed7953"
             ],
             [
              0.7777777777777778,
              "#fb9f3a"
             ],
             [
              0.8888888888888888,
              "#fdca26"
             ],
             [
              1,
              "#f0f921"
             ]
            ],
            "type": "histogram2dcontour"
           }
          ],
          "mesh3d": [
           {
            "colorbar": {
             "outlinewidth": 0,
             "ticks": ""
            },
            "type": "mesh3d"
           }
          ],
          "parcoords": [
           {
            "line": {
             "colorbar": {
              "outlinewidth": 0,
              "ticks": ""
             }
            },
            "type": "parcoords"
           }
          ],
          "pie": [
           {
            "automargin": true,
            "type": "pie"
           }
          ],
          "scatter": [
           {
            "fillpattern": {
             "fillmode": "overlay",
             "size": 10,
             "solidity": 0.2
            },
            "type": "scatter"
           }
          ],
          "scatter3d": [
           {
            "line": {
             "colorbar": {
              "outlinewidth": 0,
              "ticks": ""
             }
            },
            "marker": {
             "colorbar": {
              "outlinewidth": 0,
              "ticks": ""
             }
            },
            "type": "scatter3d"
           }
          ],
          "scattercarpet": [
           {
            "marker": {
             "colorbar": {
              "outlinewidth": 0,
              "ticks": ""
             }
            },
            "type": "scattercarpet"
           }
          ],
          "scattergeo": [
           {
            "marker": {
             "colorbar": {
              "outlinewidth": 0,
              "ticks": ""
             }
            },
            "type": "scattergeo"
           }
          ],
          "scattergl": [
           {
            "marker": {
             "colorbar": {
              "outlinewidth": 0,
              "ticks": ""
             }
            },
            "type": "scattergl"
           }
          ],
          "scattermapbox": [
           {
            "marker": {
             "colorbar": {
              "outlinewidth": 0,
              "ticks": ""
             }
            },
            "type": "scattermapbox"
           }
          ],
          "scatterpolar": [
           {
            "marker": {
             "colorbar": {
              "outlinewidth": 0,
              "ticks": ""
             }
            },
            "type": "scatterpolar"
           }
          ],
          "scatterpolargl": [
           {
            "marker": {
             "colorbar": {
              "outlinewidth": 0,
              "ticks": ""
             }
            },
            "type": "scatterpolargl"
           }
          ],
          "scatterternary": [
           {
            "marker": {
             "colorbar": {
              "outlinewidth": 0,
              "ticks": ""
             }
            },
            "type": "scatterternary"
           }
          ],
          "surface": [
           {
            "colorbar": {
             "outlinewidth": 0,
             "ticks": ""
            },
            "colorscale": [
             [
              0,
              "#0d0887"
             ],
             [
              0.1111111111111111,
              "#46039f"
             ],
             [
              0.2222222222222222,
              "#7201a8"
             ],
             [
              0.3333333333333333,
              "#9c179e"
             ],
             [
              0.4444444444444444,
              "#bd3786"
             ],
             [
              0.5555555555555556,
              "#d8576b"
             ],
             [
              0.6666666666666666,
              "#ed7953"
             ],
             [
              0.7777777777777778,
              "#fb9f3a"
             ],
             [
              0.8888888888888888,
              "#fdca26"
             ],
             [
              1,
              "#f0f921"
             ]
            ],
            "type": "surface"
           }
          ],
          "table": [
           {
            "cells": {
             "fill": {
              "color": "#EBF0F8"
             },
             "line": {
              "color": "white"
             }
            },
            "header": {
             "fill": {
              "color": "#C8D4E3"
             },
             "line": {
              "color": "white"
             }
            },
            "type": "table"
           }
          ]
         },
         "layout": {
          "annotationdefaults": {
           "arrowcolor": "#2a3f5f",
           "arrowhead": 0,
           "arrowwidth": 1
          },
          "autotypenumbers": "strict",
          "coloraxis": {
           "colorbar": {
            "outlinewidth": 0,
            "ticks": ""
           }
          },
          "colorscale": {
           "diverging": [
            [
             0,
             "#8e0152"
            ],
            [
             0.1,
             "#c51b7d"
            ],
            [
             0.2,
             "#de77ae"
            ],
            [
             0.3,
             "#f1b6da"
            ],
            [
             0.4,
             "#fde0ef"
            ],
            [
             0.5,
             "#f7f7f7"
            ],
            [
             0.6,
             "#e6f5d0"
            ],
            [
             0.7,
             "#b8e186"
            ],
            [
             0.8,
             "#7fbc41"
            ],
            [
             0.9,
             "#4d9221"
            ],
            [
             1,
             "#276419"
            ]
           ],
           "sequential": [
            [
             0,
             "#0d0887"
            ],
            [
             0.1111111111111111,
             "#46039f"
            ],
            [
             0.2222222222222222,
             "#7201a8"
            ],
            [
             0.3333333333333333,
             "#9c179e"
            ],
            [
             0.4444444444444444,
             "#bd3786"
            ],
            [
             0.5555555555555556,
             "#d8576b"
            ],
            [
             0.6666666666666666,
             "#ed7953"
            ],
            [
             0.7777777777777778,
             "#fb9f3a"
            ],
            [
             0.8888888888888888,
             "#fdca26"
            ],
            [
             1,
             "#f0f921"
            ]
           ],
           "sequentialminus": [
            [
             0,
             "#0d0887"
            ],
            [
             0.1111111111111111,
             "#46039f"
            ],
            [
             0.2222222222222222,
             "#7201a8"
            ],
            [
             0.3333333333333333,
             "#9c179e"
            ],
            [
             0.4444444444444444,
             "#bd3786"
            ],
            [
             0.5555555555555556,
             "#d8576b"
            ],
            [
             0.6666666666666666,
             "#ed7953"
            ],
            [
             0.7777777777777778,
             "#fb9f3a"
            ],
            [
             0.8888888888888888,
             "#fdca26"
            ],
            [
             1,
             "#f0f921"
            ]
           ]
          },
          "colorway": [
           "#636efa",
           "#EF553B",
           "#00cc96",
           "#ab63fa",
           "#FFA15A",
           "#19d3f3",
           "#FF6692",
           "#B6E880",
           "#FF97FF",
           "#FECB52"
          ],
          "font": {
           "color": "#2a3f5f"
          },
          "geo": {
           "bgcolor": "white",
           "lakecolor": "white",
           "landcolor": "#E5ECF6",
           "showlakes": true,
           "showland": true,
           "subunitcolor": "white"
          },
          "hoverlabel": {
           "align": "left"
          },
          "hovermode": "closest",
          "mapbox": {
           "style": "light"
          },
          "paper_bgcolor": "white",
          "plot_bgcolor": "#E5ECF6",
          "polar": {
           "angularaxis": {
            "gridcolor": "white",
            "linecolor": "white",
            "ticks": ""
           },
           "bgcolor": "#E5ECF6",
           "radialaxis": {
            "gridcolor": "white",
            "linecolor": "white",
            "ticks": ""
           }
          },
          "scene": {
           "xaxis": {
            "backgroundcolor": "#E5ECF6",
            "gridcolor": "white",
            "gridwidth": 2,
            "linecolor": "white",
            "showbackground": true,
            "ticks": "",
            "zerolinecolor": "white"
           },
           "yaxis": {
            "backgroundcolor": "#E5ECF6",
            "gridcolor": "white",
            "gridwidth": 2,
            "linecolor": "white",
            "showbackground": true,
            "ticks": "",
            "zerolinecolor": "white"
           },
           "zaxis": {
            "backgroundcolor": "#E5ECF6",
            "gridcolor": "white",
            "gridwidth": 2,
            "linecolor": "white",
            "showbackground": true,
            "ticks": "",
            "zerolinecolor": "white"
           }
          },
          "shapedefaults": {
           "line": {
            "color": "#2a3f5f"
           }
          },
          "ternary": {
           "aaxis": {
            "gridcolor": "white",
            "linecolor": "white",
            "ticks": ""
           },
           "baxis": {
            "gridcolor": "white",
            "linecolor": "white",
            "ticks": ""
           },
           "bgcolor": "#E5ECF6",
           "caxis": {
            "gridcolor": "white",
            "linecolor": "white",
            "ticks": ""
           }
          },
          "title": {
           "x": 0.05
          },
          "xaxis": {
           "automargin": true,
           "gridcolor": "white",
           "linecolor": "white",
           "ticks": "",
           "title": {
            "standoff": 15
           },
           "zerolinecolor": "white",
           "zerolinewidth": 2
          },
          "yaxis": {
           "automargin": true,
           "gridcolor": "white",
           "linecolor": "white",
           "ticks": "",
           "title": {
            "standoff": 15
           },
           "zerolinecolor": "white",
           "zerolinewidth": 2
          }
         }
        },
        "ternary": {
         "aaxis": {
          "title": {
           "text": "Ingredient 1"
          }
         },
         "baxis": {
          "title": {
           "text": "Ingredient 2"
          }
         },
         "caxis": {
          "title": {
           "text": "Ingredient 3"
          }
         },
         "sum": 1
        },
        "width": 600
       }
      }
     },
     "metadata": {},
     "output_type": "display_data"
    }
   ],
   "source": [
    "plot"
   ]
  },
  {
   "attachments": {},
   "cell_type": "markdown",
   "metadata": {},
   "source": [
    "# VNS"
   ]
  },
  {
   "cell_type": "code",
   "execution_count": 27,
   "metadata": {},
   "outputs": [
    {
     "name": "stdout",
     "output_type": "stream",
     "text": [
      "Simplex-lattice design array:\n",
      "[[0.         0.         1.        ]\n",
      " [0.         0.33333333 0.66666667]\n",
      " [0.         0.66666667 0.33333333]\n",
      " [0.         1.         0.        ]\n",
      " [0.33333333 0.         0.66666667]\n",
      " [0.33333333 0.33333333 0.33333333]\n",
      " [0.33333333 0.66666667 0.        ]\n",
      " [0.66666667 0.         0.33333333]\n",
      " [0.66666667 0.33333333 0.        ]\n",
      " [1.         0.         0.        ]]\n"
     ]
    }
   ],
   "source": [
    "import numpy as np\n",
    "\n",
    "#Simplex-lattice design\n",
    "\n",
    "def create_simplex_lattice(q, h):\n",
    "    design = []\n",
    "    for i in range(h):\n",
    "        for j in range(h - i):\n",
    "            k = (h - 1) - i - j\n",
    "            point = np.array([i, j, k]) / (h - 1)\n",
    "            design.append(point)\n",
    "    return np.array(design)\n",
    "\n",
    "q = 3  # Number of components\n",
    "h = 4  # Number of levels\n",
    "\n",
    "lattice_design_array = create_simplex_lattice(q, h)\n",
    "\n",
    "print(\"Simplex-lattice design array:\")\n",
    "print(lattice_design_array)"
   ]
  },
  {
   "cell_type": "code",
   "execution_count": 28,
   "metadata": {},
   "outputs": [
    {
     "data": {
      "image/png": "[encoded data removed]",
      "text/plain": [
       "<Figure size 640x480 with 1 Axes>"
      ]
     },
     "metadata": {},
     "output_type": "display_data"
    }
   ],
   "source": [
    "import ternary\n",
    "import pandas as pd\n",
    "import matplotlib.pyplot as plt\n",
    "\n",
    "# Plot the simplex-lattice design array\n",
    "def plot_simplex_lattice(design_array):\n",
    "    figure, tax = ternary.figure(scale=1)\n",
    "    tax.set_title(\"Simplex-lattice Design Array\", fontsize=14)\n",
    "\n",
    "    # Plot the points\n",
    "    for point in design_array:\n",
    "        tax.scatter([point], marker='o', color='red', s=30)\n",
    "\n",
    "    tax.boundary()\n",
    "    tax.gridlines(multiple=1/3, color=\"blue\")\n",
    "    tax.ticks(axis='lbr', linewidth=1, multiple=1/3)\n",
    "    tax.get_axes().axis('off')\n",
    "\n",
    "    plt.show()\n",
    "\n",
    "plot_simplex_lattice(lattice_design_array)"
   ]
  },
  {
   "cell_type": "code",
   "execution_count": 29,
   "metadata": {},
   "outputs": [],
   "source": [
    "#lattice_design_array to dataframe\n",
    "\n",
    "point0=lattice_design_array[0]\n",
    "#point0 to list\n",
    "list_points=[]\n",
    "for i in range(lattice_design_array.shape[0]):\n",
    "    point0=lattice_design_array[i]\n",
    "    point0_list=point0.tolist()\n",
    "    list_points.append(point0_list)"
   ]
  },
  {
   "cell_type": "code",
   "execution_count": 30,
   "metadata": {},
   "outputs": [
    {
     "data": {
      "text/html": [
       "<div>\n",
       "<style scoped>\n",
       "    .dataframe tbody tr th:only-of-type {\n",
       "        vertical-align: middle;\n",
       "    }\n",
       "\n",
       "    .dataframe tbody tr th {\n",
       "        vertical-align: top;\n",
       "    }\n",
       "\n",
       "    .dataframe thead th {\n",
       "        text-align: right;\n",
       "    }\n",
       "</style>\n",
       "<table border=\"1\" class=\"dataframe\">\n",
       "  <thead>\n",
       "    <tr style=\"text-align: right;\">\n",
       "      <th></th>\n",
       "      <th>ingredient_x1</th>\n",
       "      <th>ingredient_x2</th>\n",
       "      <th>ingredient_x3</th>\n",
       "    </tr>\n",
       "  </thead>\n",
       "  <tbody>\n",
       "    <tr>\n",
       "      <th>point0</th>\n",
       "      <td>0.000000</td>\n",
       "      <td>0.000000</td>\n",
       "      <td>1.000000</td>\n",
       "    </tr>\n",
       "    <tr>\n",
       "      <th>point1</th>\n",
       "      <td>0.000000</td>\n",
       "      <td>0.333333</td>\n",
       "      <td>0.666667</td>\n",
       "    </tr>\n",
       "    <tr>\n",
       "      <th>point2</th>\n",
       "      <td>0.000000</td>\n",
       "      <td>0.666667</td>\n",
       "      <td>0.333333</td>\n",
       "    </tr>\n",
       "    <tr>\n",
       "      <th>point3</th>\n",
       "      <td>0.000000</td>\n",
       "      <td>1.000000</td>\n",
       "      <td>0.000000</td>\n",
       "    </tr>\n",
       "    <tr>\n",
       "      <th>point4</th>\n",
       "      <td>0.333333</td>\n",
       "      <td>0.000000</td>\n",
       "      <td>0.666667</td>\n",
       "    </tr>\n",
       "    <tr>\n",
       "      <th>point5</th>\n",
       "      <td>0.333333</td>\n",
       "      <td>0.333333</td>\n",
       "      <td>0.333333</td>\n",
       "    </tr>\n",
       "    <tr>\n",
       "      <th>point6</th>\n",
       "      <td>0.333333</td>\n",
       "      <td>0.666667</td>\n",
       "      <td>0.000000</td>\n",
       "    </tr>\n",
       "    <tr>\n",
       "      <th>point7</th>\n",
       "      <td>0.666667</td>\n",
       "      <td>0.000000</td>\n",
       "      <td>0.333333</td>\n",
       "    </tr>\n",
       "    <tr>\n",
       "      <th>point8</th>\n",
       "      <td>0.666667</td>\n",
       "      <td>0.333333</td>\n",
       "      <td>0.000000</td>\n",
       "    </tr>\n",
       "    <tr>\n",
       "      <th>point9</th>\n",
       "      <td>1.000000</td>\n",
       "      <td>0.000000</td>\n",
       "      <td>0.000000</td>\n",
       "    </tr>\n",
       "  </tbody>\n",
       "</table>\n",
       "</div>"
      ],
      "text/plain": [
       "        ingredient_x1  ingredient_x2  ingredient_x3\n",
       "point0       0.000000       0.000000       1.000000\n",
       "point1       0.000000       0.333333       0.666667\n",
       "point2       0.000000       0.666667       0.333333\n",
       "point3       0.000000       1.000000       0.000000\n",
       "point4       0.333333       0.000000       0.666667\n",
       "point5       0.333333       0.333333       0.333333\n",
       "point6       0.333333       0.666667       0.000000\n",
       "point7       0.666667       0.000000       0.333333\n",
       "point8       0.666667       0.333333       0.000000\n",
       "point9       1.000000       0.000000       0.000000"
      ]
     },
     "execution_count": 30,
     "metadata": {},
     "output_type": "execute_result"
    }
   ],
   "source": [
    "#Lattice design dataframe \n",
    "df_lattice_design = pd.DataFrame(list_points, columns=['ingredient_x1', 'ingredient_x2', 'ingredient_x3'])\n",
    "#give rows name to df_lattice_design: point0, point1, point2, point3...\n",
    "df_lattice_design.index = ['point'+str(i) for i in range(df_lattice_design.shape[0])]\n",
    "df_lattice_design"
   ]
  },
  {
   "cell_type": "code",
   "execution_count": 31,
   "metadata": {},
   "outputs": [
    {
     "data": {
      "text/html": [
       "<div>\n",
       "<style scoped>\n",
       "    .dataframe tbody tr th:only-of-type {\n",
       "        vertical-align: middle;\n",
       "    }\n",
       "\n",
       "    .dataframe tbody tr th {\n",
       "        vertical-align: top;\n",
       "    }\n",
       "\n",
       "    .dataframe thead th {\n",
       "        text-align: right;\n",
       "    }\n",
       "</style>\n",
       "<table border=\"1\" class=\"dataframe\">\n",
       "  <thead>\n",
       "    <tr style=\"text-align: right;\">\n",
       "      <th></th>\n",
       "      <th>ingredient_x1</th>\n",
       "      <th>ingredient_x2</th>\n",
       "      <th>ingredient_x3</th>\n",
       "      <th>point_name</th>\n",
       "    </tr>\n",
       "  </thead>\n",
       "  <tbody>\n",
       "    <tr>\n",
       "      <th>point2</th>\n",
       "      <td>0.0</td>\n",
       "      <td>0.666667</td>\n",
       "      <td>0.333333</td>\n",
       "      <td>point2</td>\n",
       "    </tr>\n",
       "    <tr>\n",
       "      <th>point3</th>\n",
       "      <td>0.0</td>\n",
       "      <td>1.000000</td>\n",
       "      <td>0.000000</td>\n",
       "      <td>point3</td>\n",
       "    </tr>\n",
       "    <tr>\n",
       "      <th>point9</th>\n",
       "      <td>1.0</td>\n",
       "      <td>0.000000</td>\n",
       "      <td>0.000000</td>\n",
       "      <td>point9</td>\n",
       "    </tr>\n",
       "  </tbody>\n",
       "</table>\n",
       "</div>"
      ],
      "text/plain": [
       "        ingredient_x1  ingredient_x2  ingredient_x3 point_name\n",
       "point2            0.0       0.666667       0.333333     point2\n",
       "point3            0.0       1.000000       0.000000     point3\n",
       "point9            1.0       0.000000       0.000000     point9"
      ]
     },
     "execution_count": 31,
     "metadata": {},
     "output_type": "execute_result"
    }
   ],
   "source": [
    "#In the sample choice experimen with mixtures, q=3, j=2, s=4, k=3\n",
    " #picks 3 random points from df_lattice_design (k =3)\n",
    "df_lattice_design_sample=df_lattice_design.sample(3)\n",
    "df_lattice_design_sample\n",
    " #makes rows name as a new column\n",
    "df_lattice_design_sample['point_name']=df_lattice_design_sample.index   \n",
    "df_lattice_design_sample"
   ]
  },
  {
   "cell_type": "code",
   "execution_count": 32,
   "metadata": {},
   "outputs": [
    {
     "name": "stderr",
     "output_type": "stream",
     "text": [
      "C:\\Users\\s8533\\AppData\\Local\\Temp\\ipykernel_10264\\3081788439.py:4: FutureWarning:\n",
      "\n",
      "The frame.append method is deprecated and will be removed from pandas in a future version. Use pandas.concat instead.\n",
      "\n",
      "C:\\Users\\s8533\\AppData\\Local\\Temp\\ipykernel_10264\\3081788439.py:4: FutureWarning:\n",
      "\n",
      "The frame.append method is deprecated and will be removed from pandas in a future version. Use pandas.concat instead.\n",
      "\n",
      "C:\\Users\\s8533\\AppData\\Local\\Temp\\ipykernel_10264\\3081788439.py:4: FutureWarning:\n",
      "\n",
      "The frame.append method is deprecated and will be removed from pandas in a future version. Use pandas.concat instead.\n",
      "\n",
      "C:\\Users\\s8533\\AppData\\Local\\Temp\\ipykernel_10264\\3081788439.py:4: FutureWarning:\n",
      "\n",
      "The frame.append method is deprecated and will be removed from pandas in a future version. Use pandas.concat instead.\n",
      "\n",
      "C:\\Users\\s8533\\AppData\\Local\\Temp\\ipykernel_10264\\3081788439.py:4: FutureWarning:\n",
      "\n",
      "The frame.append method is deprecated and will be removed from pandas in a future version. Use pandas.concat instead.\n",
      "\n",
      "C:\\Users\\s8533\\AppData\\Local\\Temp\\ipykernel_10264\\3081788439.py:4: FutureWarning:\n",
      "\n",
      "The frame.append method is deprecated and will be removed from pandas in a future version. Use pandas.concat instead.\n",
      "\n",
      "C:\\Users\\s8533\\AppData\\Local\\Temp\\ipykernel_10264\\3081788439.py:4: FutureWarning:\n",
      "\n",
      "The frame.append method is deprecated and will be removed from pandas in a future version. Use pandas.concat instead.\n",
      "\n"
     ]
    },
    {
     "data": {
      "text/html": [
       "<div>\n",
       "<style scoped>\n",
       "    .dataframe tbody tr th:only-of-type {\n",
       "        vertical-align: middle;\n",
       "    }\n",
       "\n",
       "    .dataframe tbody tr th {\n",
       "        vertical-align: top;\n",
       "    }\n",
       "\n",
       "    .dataframe thead th {\n",
       "        text-align: right;\n",
       "    }\n",
       "</style>\n",
       "<table border=\"1\" class=\"dataframe\">\n",
       "  <thead>\n",
       "    <tr style=\"text-align: right;\">\n",
       "      <th></th>\n",
       "      <th>ingredient_x1</th>\n",
       "      <th>ingredient_x2</th>\n",
       "      <th>ingredient_x3</th>\n",
       "      <th>point_name</th>\n",
       "    </tr>\n",
       "  </thead>\n",
       "  <tbody>\n",
       "    <tr>\n",
       "      <th>0</th>\n",
       "      <td>0.0</td>\n",
       "      <td>0.666667</td>\n",
       "      <td>0.333333</td>\n",
       "      <td>point2</td>\n",
       "    </tr>\n",
       "    <tr>\n",
       "      <th>1</th>\n",
       "      <td>0.0</td>\n",
       "      <td>1.000000</td>\n",
       "      <td>0.000000</td>\n",
       "      <td>point3</td>\n",
       "    </tr>\n",
       "    <tr>\n",
       "      <th>2</th>\n",
       "      <td>1.0</td>\n",
       "      <td>0.000000</td>\n",
       "      <td>0.000000</td>\n",
       "      <td>point9</td>\n",
       "    </tr>\n",
       "    <tr>\n",
       "      <th>3</th>\n",
       "      <td>0.0</td>\n",
       "      <td>0.666667</td>\n",
       "      <td>0.333333</td>\n",
       "      <td>point2</td>\n",
       "    </tr>\n",
       "    <tr>\n",
       "      <th>4</th>\n",
       "      <td>0.0</td>\n",
       "      <td>1.000000</td>\n",
       "      <td>0.000000</td>\n",
       "      <td>point3</td>\n",
       "    </tr>\n",
       "    <tr>\n",
       "      <th>5</th>\n",
       "      <td>1.0</td>\n",
       "      <td>0.000000</td>\n",
       "      <td>0.000000</td>\n",
       "      <td>point9</td>\n",
       "    </tr>\n",
       "    <tr>\n",
       "      <th>6</th>\n",
       "      <td>0.0</td>\n",
       "      <td>0.666667</td>\n",
       "      <td>0.333333</td>\n",
       "      <td>point2</td>\n",
       "    </tr>\n",
       "    <tr>\n",
       "      <th>7</th>\n",
       "      <td>0.0</td>\n",
       "      <td>1.000000</td>\n",
       "      <td>0.000000</td>\n",
       "      <td>point3</td>\n",
       "    </tr>\n",
       "    <tr>\n",
       "      <th>8</th>\n",
       "      <td>1.0</td>\n",
       "      <td>0.000000</td>\n",
       "      <td>0.000000</td>\n",
       "      <td>point9</td>\n",
       "    </tr>\n",
       "    <tr>\n",
       "      <th>9</th>\n",
       "      <td>0.0</td>\n",
       "      <td>0.666667</td>\n",
       "      <td>0.333333</td>\n",
       "      <td>point2</td>\n",
       "    </tr>\n",
       "    <tr>\n",
       "      <th>10</th>\n",
       "      <td>0.0</td>\n",
       "      <td>1.000000</td>\n",
       "      <td>0.000000</td>\n",
       "      <td>point3</td>\n",
       "    </tr>\n",
       "    <tr>\n",
       "      <th>11</th>\n",
       "      <td>1.0</td>\n",
       "      <td>0.000000</td>\n",
       "      <td>0.000000</td>\n",
       "      <td>point9</td>\n",
       "    </tr>\n",
       "    <tr>\n",
       "      <th>12</th>\n",
       "      <td>0.0</td>\n",
       "      <td>0.666667</td>\n",
       "      <td>0.333333</td>\n",
       "      <td>point2</td>\n",
       "    </tr>\n",
       "    <tr>\n",
       "      <th>13</th>\n",
       "      <td>0.0</td>\n",
       "      <td>1.000000</td>\n",
       "      <td>0.000000</td>\n",
       "      <td>point3</td>\n",
       "    </tr>\n",
       "    <tr>\n",
       "      <th>14</th>\n",
       "      <td>1.0</td>\n",
       "      <td>0.000000</td>\n",
       "      <td>0.000000</td>\n",
       "      <td>point9</td>\n",
       "    </tr>\n",
       "    <tr>\n",
       "      <th>15</th>\n",
       "      <td>0.0</td>\n",
       "      <td>0.666667</td>\n",
       "      <td>0.333333</td>\n",
       "      <td>point2</td>\n",
       "    </tr>\n",
       "    <tr>\n",
       "      <th>16</th>\n",
       "      <td>0.0</td>\n",
       "      <td>1.000000</td>\n",
       "      <td>0.000000</td>\n",
       "      <td>point3</td>\n",
       "    </tr>\n",
       "    <tr>\n",
       "      <th>17</th>\n",
       "      <td>1.0</td>\n",
       "      <td>0.000000</td>\n",
       "      <td>0.000000</td>\n",
       "      <td>point9</td>\n",
       "    </tr>\n",
       "    <tr>\n",
       "      <th>18</th>\n",
       "      <td>0.0</td>\n",
       "      <td>0.666667</td>\n",
       "      <td>0.333333</td>\n",
       "      <td>point2</td>\n",
       "    </tr>\n",
       "    <tr>\n",
       "      <th>19</th>\n",
       "      <td>0.0</td>\n",
       "      <td>1.000000</td>\n",
       "      <td>0.000000</td>\n",
       "      <td>point3</td>\n",
       "    </tr>\n",
       "    <tr>\n",
       "      <th>20</th>\n",
       "      <td>1.0</td>\n",
       "      <td>0.000000</td>\n",
       "      <td>0.000000</td>\n",
       "      <td>point9</td>\n",
       "    </tr>\n",
       "    <tr>\n",
       "      <th>21</th>\n",
       "      <td>0.0</td>\n",
       "      <td>0.666667</td>\n",
       "      <td>0.333333</td>\n",
       "      <td>point2</td>\n",
       "    </tr>\n",
       "    <tr>\n",
       "      <th>22</th>\n",
       "      <td>0.0</td>\n",
       "      <td>1.000000</td>\n",
       "      <td>0.000000</td>\n",
       "      <td>point3</td>\n",
       "    </tr>\n",
       "    <tr>\n",
       "      <th>23</th>\n",
       "      <td>1.0</td>\n",
       "      <td>0.000000</td>\n",
       "      <td>0.000000</td>\n",
       "      <td>point9</td>\n",
       "    </tr>\n",
       "  </tbody>\n",
       "</table>\n",
       "</div>"
      ],
      "text/plain": [
       "    ingredient_x1  ingredient_x2  ingredient_x3 point_name\n",
       "0             0.0       0.666667       0.333333     point2\n",
       "1             0.0       1.000000       0.000000     point3\n",
       "2             1.0       0.000000       0.000000     point9\n",
       "3             0.0       0.666667       0.333333     point2\n",
       "4             0.0       1.000000       0.000000     point3\n",
       "5             1.0       0.000000       0.000000     point9\n",
       "6             0.0       0.666667       0.333333     point2\n",
       "7             0.0       1.000000       0.000000     point3\n",
       "8             1.0       0.000000       0.000000     point9\n",
       "9             0.0       0.666667       0.333333     point2\n",
       "10            0.0       1.000000       0.000000     point3\n",
       "11            1.0       0.000000       0.000000     point9\n",
       "12            0.0       0.666667       0.333333     point2\n",
       "13            0.0       1.000000       0.000000     point3\n",
       "14            1.0       0.000000       0.000000     point9\n",
       "15            0.0       0.666667       0.333333     point2\n",
       "16            0.0       1.000000       0.000000     point3\n",
       "17            1.0       0.000000       0.000000     point9\n",
       "18            0.0       0.666667       0.333333     point2\n",
       "19            0.0       1.000000       0.000000     point3\n",
       "20            1.0       0.000000       0.000000     point9\n",
       "21            0.0       0.666667       0.333333     point2\n",
       "22            0.0       1.000000       0.000000     point3\n",
       "23            1.0       0.000000       0.000000     point9"
      ]
     },
     "execution_count": 32,
     "metadata": {},
     "output_type": "execute_result"
    }
   ],
   "source": [
    "#create dataframe with j*s (j=2, s=4)rows with points from df_lattice_design_sample \n",
    "df_lattice_design_sample_j_s=df_lattice_design_sample.copy()\n",
    "for i in range(1,8):\n",
    "    df_lattice_design_sample_j_s=df_lattice_design_sample_j_s.append(df_lattice_design_sample)\n",
    "\n",
    "#reset index\n",
    "df_lattice_design_sample_j_s.reset_index(drop=True, inplace=True)\n",
    "df_lattice_design_sample_j_s\n",
    "\n",
    "\n"
   ]
  },
  {
   "cell_type": "code",
   "execution_count": 33,
   "metadata": {},
   "outputs": [
    {
     "data": {
      "text/plain": [
       "array([[0.        , 0.        , 1.        ],\n",
       "       [0.        , 0.33333333, 0.66666667],\n",
       "       [0.        , 0.66666667, 0.33333333],\n",
       "       [0.        , 1.        , 0.        ],\n",
       "       [0.33333333, 0.        , 0.66666667],\n",
       "       [0.33333333, 0.33333333, 0.33333333],\n",
       "       [0.33333333, 0.66666667, 0.        ],\n",
       "       [0.66666667, 0.        , 0.33333333],\n",
       "       [0.66666667, 0.33333333, 0.        ],\n",
       "       [1.        , 0.        , 0.        ]])"
      ]
     },
     "execution_count": 33,
     "metadata": {},
     "output_type": "execute_result"
    }
   ],
   "source": [
    "lattice_design_array"
   ]
  },
  {
   "cell_type": "code",
   "execution_count": 34,
   "metadata": {},
   "outputs": [
    {
     "name": "stdout",
     "output_type": "stream",
     "text": [
      "[[0.66666667 0.33333333 0.        ]\n",
      " [0.         0.66666667 0.33333333]\n",
      " [0.         0.33333333 0.66666667]\n",
      " [0.33333333 0.33333333 0.33333333]]\n"
     ]
    }
   ],
   "source": [
    "import random\n",
    "#k=4\n",
    "#picks 4 random points from lattice_design_array\n",
    "random_indices = random.sample(range(len(lattice_design_array)), 4)\n",
    "# Create a new array with the selected points\n",
    "selected_points = lattice_design_array[random_indices]\n",
    "print(selected_points)"
   ]
  },
  {
   "cell_type": "code",
   "execution_count": 35,
   "metadata": {},
   "outputs": [
    {
     "name": "stdout",
     "output_type": "stream",
     "text": [
      "[[0.         0.         1.        ]\n",
      " [0.         1.         0.        ]\n",
      " [0.33333333 0.         0.66666667]\n",
      " [0.33333333 0.66666667 0.        ]\n",
      " [0.66666667 0.         0.33333333]\n",
      " [1.         0.         0.        ]]\n"
     ]
    }
   ],
   "source": [
    "#unselected_points\n",
    "unselected_points = np.delete(lattice_design_array, random_indices, axis=0)\n",
    "print(unselected_points)"
   ]
  },
  {
   "cell_type": "code",
   "execution_count": 36,
   "metadata": {},
   "outputs": [
    {
     "name": "stdout",
     "output_type": "stream",
     "text": [
      "[[0 array([0., 0., 1.])]\n",
      " [1 array([0.        , 0.33333333, 0.66666667])]\n",
      " [2 array([0.        , 0.66666667, 0.33333333])]\n",
      " [3 array([0., 1., 0.])]\n",
      " [4 array([0.33333333, 0.        , 0.66666667])]\n",
      " [5 array([0.33333333, 0.33333333, 0.33333333])]\n",
      " [6 array([0.33333333, 0.66666667, 0.        ])]\n",
      " [7 array([0.66666667, 0.        , 0.33333333])]\n",
      " [8 array([0.66666667, 0.33333333, 0.        ])]\n",
      " [9 array([1., 0., 0.])]]\n"
     ]
    }
   ],
   "source": [
    "# Enumerate the array to add index numbers\n",
    "indexed_array = np.array(list(enumerate(lattice_design_array)), dtype=object)\n",
    "print(indexed_array)\n"
   ]
  },
  {
   "cell_type": "code",
   "execution_count": 37,
   "metadata": {},
   "outputs": [
    {
     "name": "stdout",
     "output_type": "stream",
     "text": [
      "[[0.66666667 0.33333333 0.        ]\n",
      " [0.         0.66666667 0.33333333]\n",
      " [0.         0.33333333 0.66666667]\n",
      " [0.33333333 0.33333333 0.33333333]]\n",
      "[[0.66666667 0.33333333 0.        ]\n",
      " [0.         0.66666667 0.33333333]\n",
      " [0.         0.33333333 0.66666667]\n",
      " [0.33333333 0.33333333 0.33333333]\n",
      " [0.66666667 0.33333333 0.        ]\n",
      " [0.         0.66666667 0.33333333]\n",
      " [0.         0.33333333 0.66666667]\n",
      " [0.33333333 0.33333333 0.33333333]\n",
      " [0.66666667 0.33333333 0.        ]\n",
      " [0.         0.66666667 0.33333333]\n",
      " [0.         0.33333333 0.66666667]\n",
      " [0.33333333 0.33333333 0.33333333]\n",
      " [0.66666667 0.33333333 0.        ]\n",
      " [0.         0.66666667 0.33333333]\n",
      " [0.         0.33333333 0.66666667]\n",
      " [0.33333333 0.33333333 0.33333333]]\n"
     ]
    }
   ],
   "source": [
    "print(selected_points)\n",
    "#select the first list in selected_points\n",
    "\n",
    "#build a loop to add every list in selected_points into selected_points\n",
    "#repeat the loop for 3 times\n",
    "initial_design_points_VNS=selected_points\n",
    "for j in range(0,3):\n",
    "    for i in range(0,4):\n",
    "        array_in_selected_points=initial_design_points_VNS[i]\n",
    "        initial_design_points_VNS=np.append(initial_design_points_VNS, [array_in_selected_points], axis=0)\n",
    "print(initial_design_points_VNS)\n"
   ]
  },
  {
   "cell_type": "code",
   "execution_count": 38,
   "metadata": {},
   "outputs": [],
   "source": [
    "#Save unmodied initial_design_points_VNS\n",
    "initial_design_points_VNS_copy=initial_design_points_VNS.copy()\n",
    "initial_design_points_VNS_copy2=initial_design_points_VNS.copy()\n"
   ]
  },
  {
   "cell_type": "code",
   "execution_count": 39,
   "metadata": {},
   "outputs": [],
   "source": [
    "#Build a function to modify the initial design to avoid singular matrix\n",
    "# and unify the format to Geoffrey initial design\n",
    "def modify_initial_design(initial_design_points_VNS):\n",
    "    #Save unmodied initial_design_points_VNS\n",
    "    initial_design_points_VNS_copy=initial_design_points_VNS.copy()\n",
    "    #modiy the initial_design_points_VNS for a little bit to avoid singular matrix\n",
    "    initial_design_points_VNS_modified=initial_design_points_VNS.copy()\n",
    "    for i in range(16):\n",
    "        if initial_design_points_VNS_modified[i][0] == 1 :\n",
    "            initial_design_points_VNS_modified[i][0] = initial_design_points_VNS_modified[i][0]-0.001*i\n",
    "            initial_design_points_VNS_modified[i][2] = initial_design_points_VNS_modified[i][2]+0.001*i\n",
    "        elif initial_design_points_VNS_modified[i][1] ==1 :\n",
    "            initial_design_points_VNS_modified[i][1] = initial_design_points_VNS_modified[i][1] -0.001*i\n",
    "            initial_design_points_VNS_modified[i][2] = initial_design_points_VNS_modified[i][2] +0.001*i\n",
    "        elif initial_design_points_VNS_modified[i][2] ==1 :\n",
    "            initial_design_points_VNS_modified[i][0] = initial_design_points_VNS_modified[i][0]+ 0.001*i\n",
    "            initial_design_points_VNS_modified[i][2] = initial_design_points_VNS_modified[i][2]- 0.001*i \n",
    "        else :\n",
    "            initial_design_points_VNS_modified[i][0] = initial_design_points_VNS_modified[i][0]+ 0.001*i\n",
    "            initial_design_points_VNS_modified[i][1] = initial_design_points_VNS_modified[i][1]- 0.001*i\n",
    "    #build a loop to pick first element in the list in intial_design_points_VNS, and add it to a new list\n",
    "    list_containing_first_element_in_list=[]\n",
    "    for i in range(0,16):\n",
    "        first_element_in_list=initial_design_points_VNS_modified[i][0]\n",
    "        list_containing_first_element_in_list.append(first_element_in_list)\n",
    "        #make the first half of the list into a new array, second half of the list into another array\n",
    "    array_containing_first_half_of_list_containing_first_element_in_list=np.array(list_containing_first_element_in_list[0:8])\n",
    "    array_containing_second_half_of_list_containing_first_element_in_list=np.array(list_containing_first_element_in_list[8:16])\n",
    "        #put the two arrays into a new array as the two elements repectively\n",
    "    array_containing_two_arrays_1=np.array([array_containing_first_half_of_list_containing_first_element_in_list, array_containing_second_half_of_list_containing_first_element_in_list])\n",
    "    #build a loop to pick second element in the list in intial_design_points_VNS, and add it to a new list\n",
    "    list_containing_second_element_in_list=[]\n",
    "    for i in range(0,16):\n",
    "        second_element_in_list=initial_design_points_VNS_modified[i][1]\n",
    "        list_containing_second_element_in_list.append(second_element_in_list)\n",
    "        #make the first half of the list into a new array, second half of the list into another array\n",
    "    array_containing_first_half_of_list_containing_second_element_in_list=np.array(list_containing_second_element_in_list[0:8])\n",
    "    array_containing_second_half_of_list_containing_second_element_in_list=np.array(list_containing_second_element_in_list[8:16])\n",
    "\n",
    "        #put the two arrays into a new array as the two elements repectively\n",
    "    array_containing_two_arrays_2=np.array([array_containing_first_half_of_list_containing_second_element_in_list, array_containing_second_half_of_list_containing_second_element_in_list])\n",
    "    #build a loop to pick third element in the list in intial_design_points_VNS, and add it to a new list\n",
    "    list_containing_third_element_in_list=[]\n",
    "    for i in range(0,16):\n",
    "        third_element_in_list=initial_design_points_VNS_modified[i][2]\n",
    "        list_containing_third_element_in_list.append(third_element_in_list)\n",
    "        #make the first half of the list into a new array, second half of the list into another array\n",
    "    array_containing_first_half_of_list_containing_third_element_in_list=np.array(list_containing_third_element_in_list[0:8])\n",
    "    array_containing_second_half_of_list_containing_third_element_in_list=np.array(list_containing_third_element_in_list[8:16])\n",
    "\n",
    "        #put the two arrays into a new array as the two elements repectively\n",
    "    array_containing_two_arrays_3=np.array([array_containing_first_half_of_list_containing_third_element_in_list, array_containing_second_half_of_list_containing_third_element_in_list])\n",
    "    #put the three arrays into a new array as the three elements repectively\n",
    "    design_VNS=np.array([array_containing_two_arrays_1, array_containing_two_arrays_2, array_containing_two_arrays_3])\n",
    "    return design_VNS\n",
    "    "
   ]
  },
  {
   "cell_type": "code",
   "execution_count": 40,
   "metadata": {},
   "outputs": [
    {
     "data": {
      "text/plain": [
       "array([[[0.66666667, 0.001     , 0.002     , 0.33633333, 0.67066667,\n",
       "         0.005     , 0.006     , 0.34033333],\n",
       "        [0.67466667, 0.009     , 0.01      , 0.34433333, 0.67866667,\n",
       "         0.013     , 0.014     , 0.34833333]],\n",
       "\n",
       "       [[0.33333333, 0.66566667, 0.33133333, 0.33033333, 0.32933333,\n",
       "         0.66166667, 0.32733333, 0.32633333],\n",
       "        [0.32533333, 0.65766667, 0.32333333, 0.32233333, 0.32133333,\n",
       "         0.65366667, 0.31933333, 0.31833333]],\n",
       "\n",
       "       [[0.        , 0.33333333, 0.66666667, 0.33333333, 0.        ,\n",
       "         0.33333333, 0.66666667, 0.33333333],\n",
       "        [0.        , 0.33333333, 0.66666667, 0.33333333, 0.        ,\n",
       "         0.33333333, 0.66666667, 0.33333333]]])"
      ]
     },
     "execution_count": 40,
     "metadata": {},
     "output_type": "execute_result"
    }
   ],
   "source": [
    "modify_initial_design(initial_design_points_VNS_copy)"
   ]
  },
  {
   "cell_type": "code",
   "execution_count": 42,
   "metadata": {},
   "outputs": [
    {
     "name": "stdout",
     "output_type": "stream",
     "text": [
      "Selelcted points are:\n",
      "[[0.66666667 0.33333333 0.        ]\n",
      " [0.         0.66666667 0.33333333]\n",
      " [0.         0.33333333 0.66666667]\n",
      " [0.33333333 0.33333333 0.33333333]]\n",
      "\n",
      "initial design points are:\n",
      "[[0.66666667 0.33333333 0.        ]\n",
      " [0.         0.66666667 0.33333333]\n",
      " [0.         0.33333333 0.66666667]\n",
      " [0.33333333 0.33333333 0.33333333]\n",
      " [0.66666667 0.33333333 0.        ]\n",
      " [0.         0.66666667 0.33333333]\n",
      " [0.         0.33333333 0.66666667]\n",
      " [0.33333333 0.33333333 0.33333333]\n",
      " [0.66666667 0.33333333 0.        ]\n",
      " [0.         0.66666667 0.33333333]\n",
      " [0.         0.33333333 0.66666667]\n",
      " [0.33333333 0.33333333 0.33333333]\n",
      " [0.66666667 0.33333333 0.        ]\n",
      " [0.         0.66666667 0.33333333]\n",
      " [0.         0.33333333 0.66666667]\n",
      " [0.33333333 0.33333333 0.33333333]]\n",
      "\n",
      "unselected points are:\n",
      "[[0.         0.         1.        ]\n",
      " [0.         1.         0.        ]\n",
      " [0.33333333 0.         0.66666667]\n",
      " [0.33333333 0.66666667 0.        ]\n",
      " [0.66666667 0.         0.33333333]\n",
      " [1.         0.         0.        ]]\n",
      "\n"
     ]
    }
   ],
   "source": [
    "print('Selelcted points are:')\n",
    "print(selected_points)\n",
    "print()\n",
    "print('initial design points are:')\n",
    "print(initial_design_points_VNS_copy)\n",
    "print()\n",
    "print('unselected points are:') \n",
    "print(unselected_points)\n",
    "print()"
   ]
  },
  {
   "cell_type": "code",
   "execution_count": 43,
   "metadata": {},
   "outputs": [],
   "source": [
    "####N0######\n",
    "\n",
    "##Replace first point in selected_points with first point in unselected_points\n",
    "target_point=selected_points[0]\n",
    "replace_point=unselected_points[0]\n",
    "\n",
    "mask = np.all(initial_design_points_VNS_copy == target_point, axis=1)\n",
    "initial_design_points_VNS_copy[mask] = replace_point\n",
    "\n"
   ]
  },
  {
   "cell_type": "code",
   "execution_count": 44,
   "metadata": {},
   "outputs": [
    {
     "data": {
      "text/plain": [
       "336685712.9792328"
      ]
     },
     "execution_count": 44,
     "metadata": {},
     "output_type": "execute_result"
    }
   ],
   "source": [
    "#\n",
    "design_N0=modify_initial_design(initial_design_points_VNS_copy)\n",
    "#calculate the Bayesian I optimality of the new design\n",
    "MixtureOptDesign.get_i_optimality_mnl(design_N0,3,beta=beta)\n"
   ]
  },
  {
   "cell_type": "code",
   "execution_count": 46,
   "metadata": {},
   "outputs": [],
   "source": [
    "#compute the bayesian I optimality of the initial design\n",
    "design_VNS_initial=modify_initial_design(initial_design_points_VNS)\n",
    "i_optimality_VNS=MixtureOptDesign.get_i_optimality_mnl(design_VNS_initial,3,beta=beta)"
   ]
  },
  {
   "cell_type": "code",
   "execution_count": 47,
   "metadata": {},
   "outputs": [
    {
     "data": {
      "text/plain": [
       "2434261035823097.5"
      ]
     },
     "execution_count": 47,
     "metadata": {},
     "output_type": "execute_result"
    }
   ],
   "source": [
    "i_optimality_VNS"
   ]
  },
  {
   "cell_type": "code",
   "execution_count": 53,
   "metadata": {},
   "outputs": [
    {
     "name": "stdout",
     "output_type": "stream",
     "text": [
      "i_optimality_VNS is:\n",
      "336685712.9792328\n",
      "The design is:\n",
      "[[0.         0.         1.        ]\n",
      " [0.         0.66666667 0.33333333]\n",
      " [0.         0.33333333 0.66666667]\n",
      " [0.33333333 0.33333333 0.33333333]\n",
      " [0.         0.         1.        ]\n",
      " [0.         0.66666667 0.33333333]\n",
      " [0.         0.33333333 0.66666667]\n",
      " [0.33333333 0.33333333 0.33333333]\n",
      " [0.         0.         1.        ]\n",
      " [0.         0.66666667 0.33333333]\n",
      " [0.         0.33333333 0.66666667]\n",
      " [0.33333333 0.33333333 0.33333333]\n",
      " [0.         0.         1.        ]\n",
      " [0.         0.66666667 0.33333333]\n",
      " [0.         0.33333333 0.66666667]\n",
      " [0.33333333 0.33333333 0.33333333]]\n",
      "\n",
      "\n",
      "i_optimality_VNS is:\n",
      "-2193531975249059.2\n",
      "The design is:\n",
      "[[0.33333333 0.66666667 0.        ]\n",
      " [0.         0.66666667 0.33333333]\n",
      " [0.         0.33333333 0.66666667]\n",
      " [0.33333333 0.33333333 0.33333333]\n",
      " [0.33333333 0.66666667 0.        ]\n",
      " [0.         0.66666667 0.33333333]\n",
      " [0.         0.33333333 0.66666667]\n",
      " [0.33333333 0.33333333 0.33333333]\n",
      " [0.33333333 0.66666667 0.        ]\n",
      " [0.         0.66666667 0.33333333]\n",
      " [0.         0.33333333 0.66666667]\n",
      " [0.33333333 0.33333333 0.33333333]\n",
      " [0.33333333 0.66666667 0.        ]\n",
      " [0.         0.66666667 0.33333333]\n",
      " [0.         0.33333333 0.66666667]\n",
      " [0.33333333 0.33333333 0.33333333]]\n",
      "\n",
      "\n"
     ]
    }
   ],
   "source": [
    "#compute the bayesian I optimality of the initial design\n",
    "design_VNS_initial=modify_initial_design(initial_design_points_VNS)\n",
    "i_optimality_VNS=MixtureOptDesign.get_i_optimality_mnl(design_VNS_initial,3,beta=beta)\n",
    "#build a loop to replace each point in selected_points with each point in unselected_points\n",
    "# and find the combination of selected_points and unselected_points that gives the lowest Bayesian I optimality\n",
    "for i in range(0,4):\n",
    "    for j in range(0,6):\n",
    "        target_point=selected_points[i]\n",
    "        replace_point=unselected_points[j]\n",
    "       \n",
    "        #make a copy of initial_design_points_VNS\n",
    "        initial_design_points_VNS_copy=initial_design_points_VNS.copy()\n",
    "        #replace the target point with the replace point\n",
    "        mask = np.all(initial_design_points_VNS_copy == target_point, axis=1)\n",
    "        initial_design_points_VNS_copy[mask] = replace_point\n",
    "        #compute the Bayesian I optimality of the new design\n",
    "        design_N0=modify_initial_design(initial_design_points_VNS_copy)\n",
    "        i_optimality_N0=MixtureOptDesign.get_i_optimality_mnl(design_N0,3,beta=beta)\n",
    "        #compare the Bayesian I optimality of the new design with the Bayesian I optimality of the initial design\n",
    "        if i_optimality_N0 < i_optimality_VNS:\n",
    "            i_optimality_VNS=i_optimality_N0\n",
    "            design_VNS=design_N0\n",
    "            final_design_N0=initial_design_points_VNS_copy.copy()\n",
    "            print('i_optimality_VNS is:')\n",
    "            print(i_optimality_VNS)\n",
    "            print('The design is:')\n",
    "            print(initial_design_points_VNS_copy)\n",
    "            print()\n",
    "            print()\n",
    "        else:\n",
    "            continue"
   ]
  },
  {
   "cell_type": "code",
   "execution_count": 54,
   "metadata": {},
   "outputs": [
    {
     "data": {
      "text/plain": [
       "array([[0.33333333, 0.66666667, 0.        ],\n",
       "       [0.        , 0.66666667, 0.33333333],\n",
       "       [0.        , 0.33333333, 0.66666667],\n",
       "       [0.33333333, 0.33333333, 0.33333333],\n",
       "       [0.33333333, 0.66666667, 0.        ],\n",
       "       [0.        , 0.66666667, 0.33333333],\n",
       "       [0.        , 0.33333333, 0.66666667],\n",
       "       [0.33333333, 0.33333333, 0.33333333],\n",
       "       [0.33333333, 0.66666667, 0.        ],\n",
       "       [0.        , 0.66666667, 0.33333333],\n",
       "       [0.        , 0.33333333, 0.66666667],\n",
       "       [0.33333333, 0.33333333, 0.33333333],\n",
       "       [0.33333333, 0.66666667, 0.        ],\n",
       "       [0.        , 0.66666667, 0.33333333],\n",
       "       [0.        , 0.33333333, 0.66666667],\n",
       "       [0.33333333, 0.33333333, 0.33333333]])"
      ]
     },
     "execution_count": 54,
     "metadata": {},
     "output_type": "execute_result"
    }
   ],
   "source": [
    "final_design_N0"
   ]
  },
  {
   "cell_type": "code",
   "execution_count": 57,
   "metadata": {},
   "outputs": [
    {
     "name": "stdout",
     "output_type": "stream",
     "text": [
      "final design N0 is:\n",
      "[[0.33333333 0.66666667 0.        ]\n",
      " [0.         0.66666667 0.33333333]\n",
      " [0.         0.33333333 0.66666667]\n",
      " [0.33333333 0.33333333 0.33333333]\n",
      " [0.33333333 0.66666667 0.        ]\n",
      " [0.         0.66666667 0.33333333]\n",
      " [0.         0.33333333 0.66666667]\n",
      " [0.33333333 0.33333333 0.33333333]\n",
      " [0.33333333 0.66666667 0.        ]\n",
      " [0.         0.66666667 0.33333333]\n",
      " [0.         0.33333333 0.66666667]\n",
      " [0.33333333 0.33333333 0.33333333]\n",
      " [0.33333333 0.66666667 0.        ]\n",
      " [0.         0.66666667 0.33333333]\n",
      " [0.         0.33333333 0.66666667]\n",
      " [0.33333333 0.33333333 0.33333333]]\n",
      "\n",
      "selected points in N0 are:\n",
      "[[0.33333333 0.66666667 0.        ]\n",
      " [0.         0.66666667 0.33333333]\n",
      " [0.         0.33333333 0.66666667]\n",
      " [0.33333333 0.33333333 0.33333333]]\n"
     ]
    }
   ],
   "source": [
    "#N1\n",
    "#For each point the design, swap it for any other point in design\n",
    "final_design_N0\n",
    "print('final design N0 is:')\n",
    "print(final_design_N0)\n",
    "print()\n",
    "#picks the first 4 rows as sleected points in N0\n",
    "selected_points_N0=final_design_N0[0:4]\n",
    "print('selected points in N0 are:')\n",
    "print(selected_points_N0)"
   ]
  },
  {
   "cell_type": "code",
   "execution_count": 58,
   "metadata": {},
   "outputs": [
    {
     "name": "stdout",
     "output_type": "stream",
     "text": [
      "i_optimality_VNS is:\n",
      "-2562427064047975.0\n",
      "The design is:\n",
      "[[0.33333333 0.66666667 0.        ]\n",
      " [0.         0.66666667 0.33333333]\n",
      " [0.         0.33333333 0.66666667]\n",
      " [0.         0.66666667 0.33333333]\n",
      " [0.33333333 0.66666667 0.        ]\n",
      " [0.         0.66666667 0.33333333]\n",
      " [0.         0.33333333 0.66666667]\n",
      " [0.         0.66666667 0.33333333]\n",
      " [0.33333333 0.66666667 0.        ]\n",
      " [0.         0.66666667 0.33333333]\n",
      " [0.         0.33333333 0.66666667]\n",
      " [0.         0.66666667 0.33333333]\n",
      " [0.33333333 0.66666667 0.        ]\n",
      " [0.         0.66666667 0.33333333]\n",
      " [0.         0.33333333 0.66666667]\n",
      " [0.         0.66666667 0.33333333]]\n",
      "\n",
      "\n"
     ]
    }
   ],
   "source": [
    "##For each point the design, swap it for any other point in design\n",
    "#build a loop to replace each point in selected_points_N0 with each point in selected_points_N0\n",
    "# and find the combination of selected_points_N0 and selected_points_N0 that gives the lowest Bayesian I optimality\n",
    "for i in range(0,4):\n",
    "    for j in range(0,4):\n",
    "        target_point=selected_points_N0[i]\n",
    "        replace_point=selected_points_N0[j]\n",
    "        #make a copy of final_design_N0\n",
    "        final_design_N0_copy=final_design_N0.copy()\n",
    "        #replace the target point with the replace point\n",
    "        mask = np.all(final_design_N0_copy == target_point, axis=1)\n",
    "        final_design_N0_copy[mask] = replace_point\n",
    "        #compute the Bayesian I optimality of the new design\n",
    "        design_N1=modify_initial_design(final_design_N0_copy)\n",
    "        i_optimality_N1=MixtureOptDesign.get_i_optimality_mnl(design_N1,3,beta=beta)\n",
    "        #compare the Bayesian I optimality of the new design with the Bayesian I optimality of the initial design\n",
    "        if i_optimality_N1 < i_optimality_VNS:\n",
    "            i_optimality_VNS=i_optimality_N1\n",
    "            design_VNS=design_N1\n",
    "            final_design_N1=final_design_N0_copy.copy()\n",
    "            print('i_optimality_VNS is:')\n",
    "            print(i_optimality_VNS)\n",
    "            print('The design is:')\n",
    "            print(final_design_N0_copy)\n",
    "            print()\n",
    "            print()\n",
    "        else:\n",
    "            continue"
   ]
  },
  {
   "cell_type": "code",
   "execution_count": null,
   "metadata": {},
   "outputs": [
    {
     "data": {
      "text/plain": [
       "array([0.        , 0.33333333, 0.66666667])"
      ]
     },
     "execution_count": 89,
     "metadata": {},
     "output_type": "execute_result"
    }
   ],
   "source": []
  },
  {
   "cell_type": "code",
   "execution_count": null,
   "metadata": {},
   "outputs": [
    {
     "data": {
      "text/plain": [
       "False"
      ]
     },
     "execution_count": 64,
     "metadata": {},
     "output_type": "execute_result"
    }
   ],
   "source": []
  },
  {
   "cell_type": "code",
   "execution_count": null,
   "metadata": {},
   "outputs": [],
   "source": []
  },
  {
   "cell_type": "code",
   "execution_count": null,
   "metadata": {},
   "outputs": [],
   "source": [
    "\n"
   ]
  },
  {
   "cell_type": "code",
   "execution_count": null,
   "metadata": {},
   "outputs": [],
   "source": [
    "\n"
   ]
  }
 ],
 "metadata": {
  "kernelspec": {
   "display_name": "base",
   "language": "python",
   "name": "python3"
  },
  "language_info": {
   "codemirror_mode": {
    "name": "ipython",
    "version": 3
   },
   "file_extension": ".py",
   "mimetype": "text/x-python",
   "name": "python",
   "nbconvert_exporter": "python",
   "pygments_lexer": "ipython3",
   "version": "3.9.13"
  },
  "orig_nbformat": 4,
  "vscode": {
   "interpreter": {
    "hash": "7c8805ab7fd913a29db751a2a677d12aa4d750c7bbcb5dc5150efb731e22afe3"
   }
  }
 },
 "nbformat": 4,
 "nbformat_minor": 2
}
