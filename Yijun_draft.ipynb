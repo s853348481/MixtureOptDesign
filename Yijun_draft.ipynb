{
 "cells": [
  {
   "cell_type": "code",
   "execution_count": 5,
   "metadata": {},
   "outputs": [],
   "source": [
    "# the meaningfulness of '__init__'\n",
    "#\n",
    "class A(object):\n",
    "    i=22\n",
    "    # self is defined overhere\n",
    "    def __init__(self):\n",
    "        self.x = 'Hello'\n",
    "    #self is defined by __init__, so only 'foo' needs to be defined in method_a \n",
    "    def method_a(self, foo):\n",
    "        print (self.x + ' ' + foo)"
   ]
  },
  {
   "cell_type": "code",
   "execution_count": 8,
   "metadata": {},
   "outputs": [
    {
     "data": {
      "text/plain": [
       "22"
      ]
     },
     "execution_count": 8,
     "metadata": {},
     "output_type": "execute_result"
    }
   ],
   "source": [
    "a=A()\n",
    "a.i"
   ]
  },
  {
   "cell_type": "code",
   "execution_count": 15,
   "metadata": {},
   "outputs": [
    {
     "name": "stdout",
     "output_type": "stream",
     "text": [
      "Hello Sailor!\n"
     ]
    }
   ],
   "source": [
    "a.method_a('Sailor!')"
   ]
  },
  {
   "attachments": {},
   "cell_type": "markdown",
   "metadata": {},
   "source": [
    "# Draft "
   ]
  },
  {
   "cell_type": "code",
   "execution_count": null,
   "metadata": {},
   "outputs": [
    {
     "name": "stdout",
     "output_type": "stream",
     "text": [
      "Collecting asttokens==2.2.1\n",
      "  Using cached asttokens-2.2.1-py2.py3-none-any.whl (26 kB)\n",
      "Collecting attrs==22.2.0\n",
      "  Using cached attrs-22.2.0-py3-none-any.whl (60 kB)\n",
      "Requirement already satisfied: backcall==0.2.0 in c:\\users\\s8533\\anaconda3\\lib\\site-packages (from -r requirements.txt (line 3)) (0.2.0)\n",
      "Collecting colorama==0.4.6\n",
      "  Using cached colorama-0.4.6-py2.py3-none-any.whl (25 kB)\n",
      "Collecting comm==0.1.2\n",
      "  Using cached comm-0.1.2-py3-none-any.whl (6.5 kB)\n",
      "Collecting debugpy==1.6.6\n",
      "  Using cached debugpy-1.6.6-cp39-cp39-win_amd64.whl (4.8 MB)\n",
      "Requirement already satisfied: decorator==5.1.1 in c:\\users\\s8533\\anaconda3\\lib\\site-packages (from -r requirements.txt (line 7)) (5.1.1)\n",
      "Collecting exceptiongroup==1.1.0\n",
      "  Using cached exceptiongroup-1.1.0-py3-none-any.whl (14 kB)\n",
      "Collecting executing==1.2.0\n",
      "  Using cached executing-1.2.0-py2.py3-none-any.whl (24 kB)\n",
      "Collecting importlib-metadata==6.0.0\n",
      "  Using cached importlib_metadata-6.0.0-py3-none-any.whl (21 kB)\n",
      "Collecting iniconfig==2.0.0\n",
      "  Using cached iniconfig-2.0.0-py3-none-any.whl (5.9 kB)\n",
      "Collecting ipykernel==6.21.2\n",
      "  Using cached ipykernel-6.21.2-py3-none-any.whl (149 kB)\n",
      "Collecting ipython==8.10.0\n",
      "  Using cached ipython-8.10.0-py3-none-any.whl (784 kB)\n",
      "Collecting jedi==0.18.2\n",
      "  Using cached jedi-0.18.2-py2.py3-none-any.whl (1.6 MB)\n",
      "Collecting jupyter-client==8.0.3\n",
      "  Using cached jupyter_client-8.0.3-py3-none-any.whl (102 kB)\n",
      "Collecting jupyter-core==5.2.0\n",
      "  Using cached jupyter_core-5.2.0-py3-none-any.whl (94 kB)\n",
      "Requirement already satisfied: matplotlib-inline==0.1.6 in c:\\users\\s8533\\anaconda3\\lib\\site-packages (from -r requirements.txt (line 17)) (0.1.6)\n",
      "Requirement already satisfied: nest-asyncio==1.5.6 in c:\\users\\s8533\\anaconda3\\lib\\site-packages (from -r requirements.txt (line 18)) (1.5.6)\n",
      "Collecting numpy==1.24.2\n",
      "  Using cached numpy-1.24.2-cp39-cp39-win_amd64.whl (14.9 MB)\n",
      "Collecting packaging==23.0\n",
      "  Using cached packaging-23.0-py3-none-any.whl (42 kB)\n",
      "Requirement already satisfied: parso==0.8.3 in c:\\users\\s8533\\anaconda3\\lib\\site-packages (from -r requirements.txt (line 21)) (0.8.3)\n",
      "Requirement already satisfied: pickleshare==0.7.5 in c:\\users\\s8533\\anaconda3\\lib\\site-packages (from -r requirements.txt (line 22)) (0.7.5)\n",
      "Collecting platformdirs==3.0.0\n",
      "  Using cached platformdirs-3.0.0-py3-none-any.whl (14 kB)\n",
      "Requirement already satisfied: pluggy==1.0.0 in c:\\users\\s8533\\anaconda3\\lib\\site-packages (from -r requirements.txt (line 24)) (1.0.0)\n",
      "Collecting prompt-toolkit==3.0.37\n",
      "  Using cached prompt_toolkit-3.0.37-py3-none-any.whl (385 kB)\n",
      "Collecting psutil==5.9.4\n",
      "  Using cached psutil-5.9.4-cp36-abi3-win_amd64.whl (252 kB)\n",
      "Requirement already satisfied: pure-eval==0.2.2 in c:\\users\\s8533\\anaconda3\\lib\\site-packages (from -r requirements.txt (line 27)) (0.2.2)\n",
      "Collecting Pygments==2.14.0\n",
      "  Using cached Pygments-2.14.0-py3-none-any.whl (1.1 MB)\n",
      "Collecting pytest==7.2.1\n",
      "  Using cached pytest-7.2.1-py3-none-any.whl (317 kB)\n",
      "Requirement already satisfied: python-dateutil==2.8.2 in c:\\users\\s8533\\anaconda3\\lib\\site-packages (from -r requirements.txt (line 30)) (2.8.2)\n",
      "Requirement already satisfied: pywin32==305 in c:\\users\\s8533\\anaconda3\\lib\\site-packages (from -r requirements.txt (line 31)) (305)\n",
      "Collecting pyzmq==25.0.0\n",
      "  Using cached pyzmq-25.0.0-cp39-cp39-win_amd64.whl (976 kB)\n",
      "Requirement already satisfied: six==1.16.0 in c:\\users\\s8533\\anaconda3\\lib\\site-packages (from -r requirements.txt (line 33)) (1.16.0)\n",
      "Collecting stack-data==0.6.2\n",
      "  Using cached stack_data-0.6.2-py3-none-any.whl (24 kB)\n",
      "Requirement already satisfied: tomli==2.0.1 in c:\\users\\s8533\\anaconda3\\lib\\site-packages (from -r requirements.txt (line 35)) (2.0.1)\n",
      "Requirement already satisfied: tornado==6.2 in c:\\users\\s8533\\anaconda3\\lib\\site-packages (from -r requirements.txt (line 36)) (6.2)\n",
      "Collecting traitlets==5.9.0\n",
      "  Using cached traitlets-5.9.0-py3-none-any.whl (117 kB)\n",
      "Requirement already satisfied: wcwidth==0.2.6 in c:\\users\\s8533\\anaconda3\\lib\\site-packages (from -r requirements.txt (line 38)) (0.2.6)\n",
      "Collecting zipp==3.15.0\n",
      "  Using cached zipp-3.15.0-py3-none-any.whl (6.8 kB)\n",
      "Installing collected packages: executing, zipp, traitlets, pyzmq, Pygments, psutil, prompt-toolkit, platformdirs, packaging, numpy, jedi, iniconfig, exceptiongroup, debugpy, colorama, attrs, asttokens, stack-data, pytest, jupyter-core, importlib-metadata, comm, jupyter-client, ipython, ipykernel\n",
      "Successfully installed Pygments-2.14.0 asttokens-2.2.1 attrs-22.2.0 colorama-0.4.6 comm-0.1.2 debugpy-1.6.6 exceptiongroup-1.1.0 executing-1.2.0 importlib-metadata-6.0.0 iniconfig-2.0.0 ipykernel-6.21.2 ipython-8.10.0 jedi-0.18.2 jupyter-client-8.0.3 jupyter-core-5.2.0 numpy-1.24.2 packaging-23.0 platformdirs-3.0.0 prompt-toolkit-3.0.37 psutil-5.9.4 pytest-7.2.1 pyzmq-25.0.0 stack-data-0.6.2 traitlets-5.9.0 zipp-3.15.0\n"
     ]
    },
    {
     "name": "stderr",
     "output_type": "stream",
     "text": [
      "  WARNING: The script pygmentize.exe is installed in 'C:\\Users\\s8533\\AppData\\Roaming\\Python\\Python39\\Scripts' which is not on PATH.\n",
      "  Consider adding this directory to PATH or, if you prefer to suppress this warning, use --no-warn-script-location.\n",
      "  WARNING: The script f2py.exe is installed in 'C:\\Users\\s8533\\AppData\\Roaming\\Python\\Python39\\Scripts' which is not on PATH.\n",
      "  Consider adding this directory to PATH or, if you prefer to suppress this warning, use --no-warn-script-location.\n",
      "  WARNING: The scripts py.test.exe and pytest.exe are installed in 'C:\\Users\\s8533\\AppData\\Roaming\\Python\\Python39\\Scripts' which is not on PATH.\n",
      "  Consider adding this directory to PATH or, if you prefer to suppress this warning, use --no-warn-script-location.\n",
      "  WARNING: The scripts jupyter-migrate.exe, jupyter-troubleshoot.exe and jupyter.exe are installed in 'C:\\Users\\s8533\\AppData\\Roaming\\Python\\Python39\\Scripts' which is not on PATH.\n",
      "  Consider adding this directory to PATH or, if you prefer to suppress this warning, use --no-warn-script-location.\n",
      "  WARNING: The scripts jupyter-kernel.exe, jupyter-kernelspec.exe and jupyter-run.exe are installed in 'C:\\Users\\s8533\\AppData\\Roaming\\Python\\Python39\\Scripts' which is not on PATH.\n",
      "  Consider adding this directory to PATH or, if you prefer to suppress this warning, use --no-warn-script-location.\n",
      "  WARNING: The scripts ipython.exe and ipython3.exe are installed in 'C:\\Users\\s8533\\AppData\\Roaming\\Python\\Python39\\Scripts' which is not on PATH.\n",
      "  Consider adding this directory to PATH or, if you prefer to suppress this warning, use --no-warn-script-location.\n",
      "ERROR: pip's dependency resolver does not currently take into account all the packages that are installed. This behaviour is the source of the following dependency conflicts.\n",
      "daal4py 2021.6.0 requires daal==2021.4.0, which is not installed.\n",
      "anaconda-project 0.11.1 requires ruamel-yaml, which is not installed.\n",
      "spyder 5.2.2 requires ipython<8.0.0,>=7.6.0, but you have ipython 8.10.0 which is incompatible.\n",
      "spyder-kernels 2.2.1 requires ipython<8,>=7.6.0; python_version >= \"3\", but you have ipython 8.10.0 which is incompatible.\n",
      "numba 0.55.1 requires numpy<1.22,>=1.18, but you have numpy 1.24.2 which is incompatible.\n",
      "distributed 2022.7.0 requires tornado<6.2,>=6.0.3, but you have tornado 6.2 which is incompatible.\n",
      "conda-repo-cli 1.0.20 requires clyent==1.2.1, but you have clyent 1.2.2 which is incompatible.\n",
      "conda-repo-cli 1.0.20 requires nbformat==5.4.0, but you have nbformat 5.5.0 which is incompatible.\n"
     ]
    }
   ],
   "source": [
    "!pip install -r requirements.txt --user"
   ]
  },
  {
   "cell_type": "code",
   "execution_count": 20,
   "metadata": {},
   "outputs": [],
   "source": [
    "import numpy as np\n",
    "import MixtureOptDesign"
   ]
  },
  {
   "cell_type": "code",
   "execution_count": 21,
   "metadata": {},
   "outputs": [],
   "source": [
    "#input\n",
    "    #design \n",
    "    #beta \n",
    "    #order\n",
    "    #q=3  j=2 s=8\n",
    "\n",
    "# Data\n",
    "data = [0.3897873, 0.6292498, 0.7009263, 0.4262842, 0.246073770, 0.48413014, 0.2913878, 0.7201046335,\n",
    "        0.4982357, 0.007519965, 0.2505569, 0.1549670, 0.5415304, 0.3639989, 0.04235179, 0.3279013,\n",
    "        0.2375383, 0.1180457, 0.2000333, 0.2569634, 0.749005428, 0.03588967, 0.3591402, 0.0009022414,\n",
    "        0.2549352, 0.636080256, 0.4460236, 0.6877322, 0.2635403, 0.3727396, 0.44510098, 0.2701244,\n",
    "        0.3726744, 0.2527044, 0.0990404, 0.3167524, 0.004920801, 0.47998018, 0.3494720, 0.2789931250,\n",
    "        0.2468291, 0.356399779, 0.3034196, 0.1573008, 0.1949293, 0.2632615, 0.51254723, 0.4019743]\n",
    "\n",
    "# Convert to a numpy array of shape (3, 2, 8)\n",
    "design = np.array(data).reshape((3, 2, 8))"
   ]
  },
  {
   "cell_type": "code",
   "execution_count": 24,
   "metadata": {},
   "outputs": [
    {
     "data": {
      "text/plain": [
       "numpy.ndarray"
      ]
     },
     "execution_count": 24,
     "metadata": {},
     "output_type": "execute_result"
    }
   ],
   "source": [
    "type(design)"
   ]
  },
  {
   "cell_type": "code",
   "execution_count": 32,
   "metadata": {},
   "outputs": [],
   "source": [
    "beta = MixtureOptDesign.generate_beta_params(num_params=7,q=3)\n",
    "beta_star, beta_2, beta_3 = MixtureOptDesign.get_beta_coefficients(beta,3,3)"
   ]
  },
  {
   "cell_type": "code",
   "execution_count": 47,
   "metadata": {},
   "outputs": [
    {
     "name": "stdout",
     "output_type": "stream",
     "text": [
      "beta: [-1.09880992 -1.48990645 -0.88961739 -0.05820392 -0.69135755 -0.43193993]\n",
      "\n",
      "beta_star: [-1.09880992 -1.48990645] 2\n",
      "\n",
      "beta_2: [-0.88961739 -0.05820392 -0.69135755] 3\n",
      "\n",
      "beta_3: [-0.43193993] 1\n"
     ]
    }
   ],
   "source": [
    "print('beta:'+' '+str(beta))\n",
    "print()\n",
    "print('beta_star:'+' '+str(beta_star)+ ' '+ str(len(beta_star)))\n",
    "print()\n",
    "print('beta_2:'+' '+str(beta_2)+ ' '+ str(len(beta_2)))\n",
    "print()\n",
    "print('beta_3:'+' '+str(beta_3)+ ' '+ str(len(beta_3)))"
   ]
  },
  {
   "cell_type": "code",
   "execution_count": 57,
   "metadata": {},
   "outputs": [],
   "source": [
    "#utility and choice_probability\n",
    "U = MixtureOptDesign.get_utilities(design,beta_star,beta_2,beta_3,3)\n",
    "P = MixtureOptDesign.get_choice_probabilities(U)"
   ]
  },
  {
   "cell_type": "code",
   "execution_count": 58,
   "metadata": {},
   "outputs": [
    {
     "data": {
      "text/plain": [
       "array([[-0.99079913, -0.9940318 , -1.23344711, -1.06971059, -1.55440751,\n",
       "        -0.64000156, -1.10100958, -0.80534493],\n",
       "       [-1.14234606, -1.11989878, -1.19283631, -1.39343798, -1.20191233,\n",
       "        -1.20798118, -0.90128955, -0.98266204]])"
      ]
     },
     "execution_count": 58,
     "metadata": {},
     "output_type": "execute_result"
    }
   ],
   "source": [
    "U"
   ]
  },
  {
   "cell_type": "code",
   "execution_count": 60,
   "metadata": {},
   "outputs": [
    {
     "data": {
      "text/plain": [
       "array([[0.53781439, 0.53142527, 0.4898487 , 0.58023238, 0.41277748,\n",
       "        0.63829685, 0.4502353 , 0.54421349],\n",
       "       [0.46218561, 0.46857473, 0.5101513 , 0.41976762, 0.58722252,\n",
       "        0.36170315, 0.5497647 , 0.45578651]])"
      ]
     },
     "execution_count": 60,
     "metadata": {},
     "output_type": "execute_result"
    }
   ],
   "source": [
    "P"
   ]
  },
  {
   "cell_type": "code",
   "execution_count": 61,
   "metadata": {},
   "outputs": [],
   "source": [
    "model_array = MixtureOptDesign.get_model_matrix(design,3)"
   ]
  },
  {
   "cell_type": "code",
   "execution_count": 64,
   "metadata": {},
   "outputs": [
    {
     "data": {
      "text/plain": [
       "(6, 2, 8)"
      ]
     },
     "execution_count": 64,
     "metadata": {},
     "output_type": "execute_result"
    }
   ],
   "source": [
    "model_array.shape"
   ]
  },
  {
   "cell_type": "code",
   "execution_count": 68,
   "metadata": {},
   "outputs": [
    {
     "data": {
      "text/plain": [
       "array([[[0.3897873 , 0.6292498 , 0.7009263 , 0.4262842 , 0.24607377,\n",
       "         0.48413014, 0.2913878 , 0.72010463],\n",
       "        [0.4982357 , 0.00751996, 0.2505569 , 0.154967  , 0.5415304 ,\n",
       "         0.3639989 , 0.04235179, 0.3279013 ]],\n",
       "\n",
       "       [[0.2375383 , 0.1180457 , 0.2000333 , 0.2569634 , 0.74900543,\n",
       "         0.03588967, 0.3591402 , 0.00090224],\n",
       "        [0.2549352 , 0.63608026, 0.4460236 , 0.6877322 , 0.2635403 ,\n",
       "         0.3727396 , 0.44510098, 0.2701244 ]],\n",
       "\n",
       "       [[0.3726744 , 0.2527044 , 0.0990404 , 0.3167524 , 0.0049208 ,\n",
       "         0.47998018, 0.349472  , 0.27899313],\n",
       "        [0.2468291 , 0.35639978, 0.3034196 , 0.1573008 , 0.1949293 ,\n",
       "         0.2632615 , 0.51254723, 0.4019743 ]]])"
      ]
     },
     "execution_count": 68,
     "metadata": {},
     "output_type": "execute_result"
    }
   ],
   "source": [
    "#model_array vs design\n",
    "design\n",
    "model_array"
   ]
  },
  {
   "cell_type": "code",
   "execution_count": 70,
   "metadata": {},
   "outputs": [],
   "source": [
    "information_matrix=MixtureOptDesign.get_information_matrix_mnl(design=design,order=3,beta=beta)"
   ]
  },
  {
   "cell_type": "code",
   "execution_count": 71,
   "metadata": {},
   "outputs": [
    {
     "data": {
      "text/plain": [
       "(6, 6)"
      ]
     },
     "execution_count": 71,
     "metadata": {},
     "output_type": "execute_result"
    }
   ],
   "source": [
    "information_matrix.shape"
   ]
  },
  {
   "cell_type": "code",
   "execution_count": 72,
   "metadata": {},
   "outputs": [],
   "source": [
    "#optimal design\n",
    "\n",
    "b = MixtureOptDesign.CoordinateExchangeIOptimal(design,order=3,n_points=100,iteration=10)"
   ]
  },
  {
   "cell_type": "code",
   "execution_count": 87,
   "metadata": {},
   "outputs": [],
   "source": [
    "b.get_design()\n",
    "optimal_design=b.optimize_design()"
   ]
  },
  {
   "cell_type": "code",
   "execution_count": 95,
   "metadata": {},
   "outputs": [
    {
     "name": "stdout",
     "output_type": "stream",
     "text": [
      "(3, 2, 8)\n",
      "\n",
      "[[[0.         0.50505051 0.         1.         0.         0.\n",
      "   0.         0.        ]\n",
      "  [0.56565657 0.02020202 0.33041009 0.1010101  0.         0.33333333\n",
      "   0.         0.62626263]]\n",
      "\n",
      " [[0.         0.49494949 0.         0.         1.         0.\n",
      "   0.         0.61616162]\n",
      "  [0.         0.02443171 0.34343434 0.         0.11111111 0.34245702\n",
      "   0.58585859 0.        ]]\n",
      "\n",
      " [[1.         0.         1.         0.         0.         1.\n",
      "   1.         0.38383838]\n",
      "  [0.43434343 0.95536627 0.32615568 0.8989899  0.88888889 0.32420965\n",
      "   0.41414141 0.37373737]]]\n"
     ]
    }
   ],
   "source": [
    "print(str(optimal_design.shape)) \n",
    "print()\n",
    "print(optimal_design)"
   ]
  }
 ],
 "metadata": {
  "kernelspec": {
   "display_name": "Python 3",
   "language": "python",
   "name": "python3"
  },
  "language_info": {
   "codemirror_mode": {
    "name": "ipython",
    "version": 3
   },
   "file_extension": ".py",
   "mimetype": "text/x-python",
   "name": "python",
   "nbconvert_exporter": "python",
   "pygments_lexer": "ipython3",
   "version": "3.9.13"
  },
  "orig_nbformat": 4
 },
 "nbformat": 4,
 "nbformat_minor": 2
}
